{
 "cells": [
  {
   "cell_type": "code",
   "execution_count": 29,
   "id": "ec3d28a1-327c-4d1e-b69c-b86ab754ddb8",
   "metadata": {},
   "outputs": [],
   "source": [
    "import re \n",
    "import nltk "
   ]
  },
  {
   "cell_type": "code",
   "execution_count": 3,
   "id": "349645d0-6f25-460c-b7e2-b12622a69268",
   "metadata": {},
   "outputs": [],
   "source": [
    "## Reading data from the text files \n",
    "\n",
    "train_data = open(\"./Data/train.txt\").readlines()\n",
    "val_data = open(\"./Data/val.txt\").readlines()\n",
    "test_data = open(\"./Data/test.txt\").readlines()\n"
   ]
  },
  {
   "cell_type": "code",
   "execution_count": 7,
   "id": "a986b3ce-8dcd-4c90-ba19-3962d8ae3de2",
   "metadata": {},
   "outputs": [
    {
     "name": "stdout",
     "output_type": "stream",
     "text": [
      "16000\n",
      "2000\n",
      "2000\n"
     ]
    }
   ],
   "source": [
    "print(len(train_data))\n",
    "print(len(val_data))\n",
    "print(len(test_data))\n"
   ]
  },
  {
   "cell_type": "code",
   "execution_count": 8,
   "id": "03fa62f9-f16b-4f72-b304-bff76bdf2355",
   "metadata": {},
   "outputs": [
    {
     "name": "stdout",
     "output_type": "stream",
     "text": [
      "20000\n"
     ]
    }
   ],
   "source": [
    "complet_data = train_data + test_data + val_data \n",
    "print(len(complet_data))"
   ]
  },
  {
   "cell_type": "code",
   "execution_count": 14,
   "id": "2a524209-6a55-4844-afa9-51cd9842344c",
   "metadata": {},
   "outputs": [],
   "source": [
    "x=[]\n",
    "y=[]\n",
    "for temp in complet_data:\n",
    "    complete = temp.split(';')\n",
    "    if len(complete)==2:\n",
    "        x.append(complete[0])\n",
    "        y.append(complete[1].strip())"
   ]
  },
  {
   "cell_type": "code",
   "execution_count": 21,
   "id": "5ace463b-dac6-48b5-a4d5-fdd63946b80e",
   "metadata": {},
   "outputs": [
    {
     "data": {
      "text/plain": [
       "['sadness', 'anger', 'love', 'surprise', 'fear', 'joy']"
      ]
     },
     "execution_count": 21,
     "metadata": {},
     "output_type": "execute_result"
    }
   ],
   "source": [
    "labels=[]\n",
    "for item in y:\n",
    "        if item not in labels:\n",
    "            labels.append(item)\n",
    "labels "
   ]
  },
  {
   "cell_type": "code",
   "execution_count": null,
   "id": "0605f5cc-53fa-494a-8548-0d8d6b6b8cc6",
   "metadata": {},
   "outputs": [],
   "source": [
    "## Text cleaning \n",
    "# 1. lower case convert all message \n",
    "# 2. a-z0-9   other characters \n",
    "# 3. "
   ]
  },
  {
   "cell_type": "code",
   "execution_count": null,
   "id": "6fec0144-333d-48b1-a014-e9ad361a2161",
   "metadata": {},
   "outputs": [],
   "source": []
  },
  {
   "cell_type": "code",
   "execution_count": null,
   "id": "89693722-a988-4a59-8fb1-7c6897a64dd2",
   "metadata": {},
   "outputs": [],
   "source": [
    "def text_cleaning(sentences):\n",
    "    for sentece in sentences: \n",
    "        message = sentece.lower()\n",
    "        message = re.sub('[^a-z0-9 ]',\"\",message)\n",
    "        ls_of_words = nltk.word_tokenize(message)\n",
    "        \n",
    "        \n",
    "\n",
    "\n",
    "\n",
    "\n",
    "cleaned_data = text_cleaning(x)\n"
   ]
  },
  {
   "cell_type": "code",
   "execution_count": 31,
   "id": "be3e92db-b4b2-4711-9355-59f023353ed3",
   "metadata": {},
   "outputs": [],
   "source": [
    "single_message = x[1].lower()\n",
    "single_message = re.sub('[^a-z0-9 ]',\"\",single_message)\n",
    "ls_of_words = nltk.word_tokenize(single_message)  # single_message.split()"
   ]
  }
 ],
 "metadata": {
  "kernelspec": {
   "display_name": "Python 3 (ipykernel)",
   "language": "python",
   "name": "python3"
  },
  "language_info": {
   "codemirror_mode": {
    "name": "ipython",
    "version": 3
   },
   "file_extension": ".py",
   "mimetype": "text/x-python",
   "name": "python",
   "nbconvert_exporter": "python",
   "pygments_lexer": "ipython3",
   "version": "3.12.4"
  }
 },
 "nbformat": 4,
 "nbformat_minor": 5
}
