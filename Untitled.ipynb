{
 "cells": [
  {
   "cell_type": "code",
   "execution_count": 9,
   "id": "3f6efad7-d861-4dfd-892c-8f53153cfd95",
   "metadata": {},
   "outputs": [],
   "source": [
    "class Student: \n",
    "    #class properties \n",
    "    name = ['Rahul kumar','Dhakad','nitin']\n",
    "    branch = 'computer science engineeer'\n",
    "    college = \"IET Lucknow\"\n"
   ]
  },
  {
   "cell_type": "code",
   "execution_count": 10,
   "id": "f942d65d-2513-4ab4-b2c6-af9cf2a21a08",
   "metadata": {},
   "outputs": [],
   "source": [
    "stu_obj = Student()     # object creation or instance "
   ]
  },
  {
   "cell_type": "code",
   "execution_count": 14,
   "id": "9956bf49-3847-4351-bf42-a64071d3fabf",
   "metadata": {},
   "outputs": [
    {
     "name": "stdout",
     "output_type": "stream",
     "text": [
      "['Rahul kumar', 'Dhakad', 'nitin']\n"
     ]
    }
   ],
   "source": [
    "print(stu_obj.name)"
   ]
  },
  {
   "cell_type": "code",
   "execution_count": 16,
   "id": "abfe2d68-fa2c-415c-8e6d-fef3c084583e",
   "metadata": {},
   "outputs": [],
   "source": [
    "stu_obj.branch = \"information technology\""
   ]
  },
  {
   "cell_type": "code",
   "execution_count": 17,
   "id": "cf8fdd21-21b4-4949-b846-2076a59b87f1",
   "metadata": {},
   "outputs": [],
   "source": [
    "stu_obj.college = \"nalanda university\""
   ]
  },
  {
   "cell_type": "code",
   "execution_count": 18,
   "id": "b96afb07-5b11-4a1d-97e1-ca265a82c1cb",
   "metadata": {},
   "outputs": [
    {
     "name": "stdout",
     "output_type": "stream",
     "text": [
      "nalanda university\n"
     ]
    }
   ],
   "source": [
    "print(stu_obj.college)"
   ]
  },
  {
   "cell_type": "code",
   "execution_count": 19,
   "id": "41ae4b7a-d042-48f8-8b92-82cd9ab99d64",
   "metadata": {},
   "outputs": [
    {
     "name": "stdout",
     "output_type": "stream",
     "text": [
      "information technology\n"
     ]
    }
   ],
   "source": [
    "print(stu_obj.branch)\n"
   ]
  },
  {
   "cell_type": "code",
   "execution_count": 57,
   "id": "f5e24e0f-430b-4fa1-90ac-296c9085bb6d",
   "metadata": {
    "scrolled": true
   },
   "outputs": [],
   "source": [
    "class ListFunction: \n",
    "    ls = [25,41,63,85,74,96,112,113,117,75,963,42,14,52,77,88,55,66,33,22,11,44,55,88,99,66,74,52,1]   # without using len \n",
    "\n",
    "    # Method \n",
    "    def len_finder(self):\n",
    "        count = 0 \n",
    "        for item in self.ls:\n",
    "            count +=1\n",
    "        print(count)\n",
    "\n",
    "    #method \n",
    "    def average_finder(self):    # len , sum \n",
    "        total_sum = 0 \n",
    "        count = 0\n",
    "        for item in self.ls: \n",
    "            if item %2 ==0:\n",
    "                total_sum += item \n",
    "                count += 1 \n",
    "    \n",
    "        print(\"Your average is : \",total_sum/count)\n",
    "\n",
    "    \n",
    "\n",
    "    def average_finder_even(self):\n",
    "        total_sum = 0 \n",
    "        count = 0 \n",
    "        for item in self.ls: \n",
    "            if item >=50 and item <=100 and item % 2 ==0: \n",
    "                total_sum += item \n",
    "                count +=1 \n",
    "        average = total_sum/count\n",
    "        print(\"Your average is : \",round(average,2))\n",
    "    \n",
    "    "
   ]
  },
  {
   "cell_type": "code",
   "execution_count": 58,
   "id": "ac35d70d-e7f2-407c-a4bc-84706f36031e",
   "metadata": {},
   "outputs": [],
   "source": [
    "obj =  ListFunction()"
   ]
  },
  {
   "cell_type": "code",
   "execution_count": 59,
   "id": "fbeccec0-c168-4a42-adb2-47db85c335e7",
   "metadata": {},
   "outputs": [
    {
     "name": "stdout",
     "output_type": "stream",
     "text": [
      "Your average is :  72.89\n"
     ]
    }
   ],
   "source": [
    "obj.average_finder_even()"
   ]
  },
  {
   "cell_type": "code",
   "execution_count": 44,
   "id": "46329898-2ed0-4004-99e3-e897c3cd8adf",
   "metadata": {},
   "outputs": [
    {
     "name": "stdout",
     "output_type": "stream",
     "text": [
      "Your average is :  133.71428571428572\n"
     ]
    }
   ],
   "source": [
    "obj.average_finder()"
   ]
  },
  {
   "cell_type": "code",
   "execution_count": 40,
   "id": "a96e7418-5a7b-416f-aef2-447dd5472de6",
   "metadata": {},
   "outputs": [],
   "source": [
    "ls = [25,41,63,85,74,96,112,113,117,75,963,42,14,52] \n",
    "\n",
    "def average_finder(ls):    # len , sum \n",
    "    total_sum = 0 \n",
    "    count = 0\n",
    "    for item in ls: \n",
    "        total_sum += item \n",
    "        count += 1 \n",
    "\n",
    "    print(\"Your average is : \",total_sum/count)"
   ]
  },
  {
   "cell_type": "code",
   "execution_count": 41,
   "id": "aecc1d46-4560-43b6-97cf-33139e81924d",
   "metadata": {},
   "outputs": [
    {
     "name": "stdout",
     "output_type": "stream",
     "text": [
      "Your average is :  133.71428571428572\n"
     ]
    }
   ],
   "source": [
    "average_finder(ls)"
   ]
  },
  {
   "cell_type": "code",
   "execution_count": 87,
   "id": "cd28cd80-6322-440d-9801-b1e8fb7a9b45",
   "metadata": {},
   "outputs": [],
   "source": [
    "### constructor    \n",
    "class Student: \n",
    "    # class variable \n",
    "    name = \"Rahul kumar\"\n",
    "\n",
    "    # instance variable \n",
    "    def __init__(self): \n",
    "        self.student_name = \"Mohit kumar\"\n",
    "        self.branch = 'CSE'\n",
    "        self.college = \"IET lucknow\"\n",
    "    "
   ]
  },
  {
   "cell_type": "code",
   "execution_count": 88,
   "id": "c7596ab9-3feb-4bfb-8e1b-8efc54061d0d",
   "metadata": {},
   "outputs": [],
   "source": [
    "obj1 = Student()\n",
    "obj2 = Student()\n",
    "obj3 = Student()"
   ]
  },
  {
   "cell_type": "code",
   "execution_count": 90,
   "id": "0dc49121-1ee7-413c-a022-da3ac4a39f10",
   "metadata": {},
   "outputs": [],
   "source": [
    "Student.name  = \"Dharm pal\""
   ]
  },
  {
   "cell_type": "code",
   "execution_count": 91,
   "id": "20b2868b-51ed-4103-87db-74fc32238fa1",
   "metadata": {},
   "outputs": [
    {
     "data": {
      "text/plain": [
       "'Dharm pal'"
      ]
     },
     "execution_count": 91,
     "metadata": {},
     "output_type": "execute_result"
    }
   ],
   "source": [
    "Student.name"
   ]
  },
  {
   "cell_type": "code",
   "execution_count": 92,
   "id": "4b6c8778-6420-40e2-b2b3-782455e1fcca",
   "metadata": {},
   "outputs": [],
   "source": [
    "obj4 =  Student()"
   ]
  },
  {
   "cell_type": "code",
   "execution_count": 94,
   "id": "dc7b5d16-53ce-41ec-8bdb-c5d63051cb72",
   "metadata": {},
   "outputs": [
    {
     "data": {
      "text/plain": [
       "'Dharm pal'"
      ]
     },
     "execution_count": 94,
     "metadata": {},
     "output_type": "execute_result"
    }
   ],
   "source": [
    "obj4.name"
   ]
  },
  {
   "cell_type": "code",
   "execution_count": 83,
   "id": "dc5c65b7-bfec-4ab3-bedf-c1a00c3de866",
   "metadata": {},
   "outputs": [
    {
     "data": {
      "text/plain": [
       "'Rahul kumar'"
      ]
     },
     "execution_count": 83,
     "metadata": {},
     "output_type": "execute_result"
    }
   ],
   "source": [
    "obj3.name"
   ]
  },
  {
   "cell_type": "code",
   "execution_count": 81,
   "id": "87d745c9-d3f3-4298-884c-b522200156e8",
   "metadata": {},
   "outputs": [
    {
     "data": {
      "text/plain": [
       "'Rahul kumar'"
      ]
     },
     "execution_count": 81,
     "metadata": {},
     "output_type": "execute_result"
    }
   ],
   "source": [
    "Student.name "
   ]
  },
  {
   "cell_type": "code",
   "execution_count": 84,
   "id": "6f306129-f3a1-4bbb-b1df-06d3a80dcd19",
   "metadata": {},
   "outputs": [],
   "source": [
    "obj2.name = \"varshit\""
   ]
  },
  {
   "cell_type": "code",
   "execution_count": 78,
   "id": "e32aba7b-7931-46ee-beb4-04456bd510df",
   "metadata": {},
   "outputs": [],
   "source": [
    "obj1.name = \"varshit 2\""
   ]
  },
  {
   "cell_type": "code",
   "execution_count": 69,
   "id": "ad4a429f-e126-49f5-8430-4bd8cf584774",
   "metadata": {},
   "outputs": [
    {
     "data": {
      "text/plain": [
       "'Rahul kumar'"
      ]
     },
     "execution_count": 69,
     "metadata": {},
     "output_type": "execute_result"
    }
   ],
   "source": [
    "Student.name "
   ]
  },
  {
   "cell_type": "code",
   "execution_count": 85,
   "id": "6da1d73c-e5c0-4b1b-8c52-8e3601f9a0a0",
   "metadata": {},
   "outputs": [
    {
     "data": {
      "text/plain": [
       "'Rahul kumar'"
      ]
     },
     "execution_count": 85,
     "metadata": {},
     "output_type": "execute_result"
    }
   ],
   "source": [
    "obj1.name "
   ]
  },
  {
   "cell_type": "code",
   "execution_count": 105,
   "id": "5c8bba4f-2bab-49c8-8715-8c5e8608ae02",
   "metadata": {},
   "outputs": [],
   "source": [
    "### constructor    \n",
    "class Student: \n",
    "    # class variable \n",
    "    name = \"Rahul kumar\"\n",
    "\n",
    "    # instance variable \n",
    "    def __init__(self,name,student_branch,student_college): \n",
    "        self.student_name = name \n",
    "        self.branch = student_branch\n",
    "        self.college = student_college\n",
    "        print('I am executed !')\n"
   ]
  },
  {
   "cell_type": "code",
   "execution_count": 114,
   "id": "d3f9b27e-79f1-4719-8548-1d5b05a91b69",
   "metadata": {},
   "outputs": [
    {
     "name": "stdout",
     "output_type": "stream",
     "text": [
      "I am executed !\n",
      "I am executed !\n",
      "I am executed !\n"
     ]
    }
   ],
   "source": [
    "obj1 = Student(name='Rahul kumar',student_branch=\"cse\",student_college=\"iet lucknow\")\n",
    "obj2 = Student(name='rocky kumar',student_branch=\"machanical\",student_college=\"iet bhopal\")\n",
    "my_obj  = Student(name=\"Ranjit Singh\",student_branch=\"cse\",student_college=\"IET agra\")"
   ]
  },
  {
   "cell_type": "code",
   "execution_count": 115,
   "id": "39a236fb-24fd-4fe3-aaf1-79b61e2156e4",
   "metadata": {},
   "outputs": [
    {
     "data": {
      "text/plain": [
       "'Ranjit Singh'"
      ]
     },
     "execution_count": 115,
     "metadata": {},
     "output_type": "execute_result"
    }
   ],
   "source": [
    "my_obj.student_name"
   ]
  },
  {
   "cell_type": "code",
   "execution_count": 117,
   "id": "02948434-899c-496b-8192-c00484a9816f",
   "metadata": {},
   "outputs": [
    {
     "data": {
      "text/plain": [
       "'Ranjit Singh'"
      ]
     },
     "execution_count": 117,
     "metadata": {},
     "output_type": "execute_result"
    }
   ],
   "source": [
    "my_obj.student_name\n"
   ]
  },
  {
   "cell_type": "code",
   "execution_count": null,
   "id": "1be642be-ad02-465c-a76f-0c8778dc5e92",
   "metadata": {},
   "outputs": [],
   "source": []
  },
  {
   "cell_type": "code",
   "execution_count": null,
   "id": "e2bfeebc-2704-4474-9b6a-fcef4cf77ca8",
   "metadata": {},
   "outputs": [],
   "source": []
  },
  {
   "cell_type": "code",
   "execution_count": 101,
   "id": "e8963e22-4722-4b8e-83bc-404e1aa5ddd9",
   "metadata": {},
   "outputs": [
    {
     "name": "stdout",
     "output_type": "stream",
     "text": [
      "I am executed !\n",
      "I am executed !\n"
     ]
    }
   ],
   "source": [
    "obj1 = Student() \n",
    "obj2 = Student()\n",
    "obj3 = Student()"
   ]
  },
  {
   "cell_type": "code",
   "execution_count": 102,
   "id": "25d65b61-faa7-485d-9409-7b94d82aa996",
   "metadata": {},
   "outputs": [
    {
     "data": {
      "text/plain": [
       "'Mohit kumar'"
      ]
     },
     "execution_count": 102,
     "metadata": {},
     "output_type": "execute_result"
    }
   ],
   "source": [
    "obj1.student_name"
   ]
  },
  {
   "cell_type": "code",
   "execution_count": 103,
   "id": "ad8b48bd-c7a0-411e-a0c6-1540c1fb838e",
   "metadata": {},
   "outputs": [
    {
     "data": {
      "text/plain": [
       "'Mohit kumar'"
      ]
     },
     "execution_count": 103,
     "metadata": {},
     "output_type": "execute_result"
    }
   ],
   "source": [
    "obj2.student_name\n"
   ]
  },
  {
   "cell_type": "code",
   "execution_count": null,
   "id": "26ab7f1a-f0f5-4529-9a10-b8af8e03b6e1",
   "metadata": {},
   "outputs": [],
   "source": [
    "class Faculty: \n",
    "    # class variable \n",
    "\n",
    "    def __init__(self):\n",
    "\n",
    "\n",
    "    # all the instance variable \n",
    "    def show_info():\n",
    "        print(instance variables )\n",
    "    "
   ]
  },
  {
   "cell_type": "code",
   "execution_count": null,
   "id": "2ec45943-da4f-4866-8b52-921bb6511472",
   "metadata": {},
   "outputs": [],
   "source": [
    "# mutliple "
   ]
  }
 ],
 "metadata": {
  "kernelspec": {
   "display_name": "Python 3 (ipykernel)",
   "language": "python",
   "name": "python3"
  },
  "language_info": {
   "codemirror_mode": {
    "name": "ipython",
    "version": 3
   },
   "file_extension": ".py",
   "mimetype": "text/x-python",
   "name": "python",
   "nbconvert_exporter": "python",
   "pygments_lexer": "ipython3",
   "version": "3.11.5"
  }
 },
 "nbformat": 4,
 "nbformat_minor": 5
}
