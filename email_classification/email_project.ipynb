{
 "cells": [
  {
   "cell_type": "code",
   "execution_count": 65,
   "id": "829f5dbb-94bb-4cfa-81d4-998980ecb9ce",
   "metadata": {},
   "outputs": [],
   "source": [
    "import pandas as pd \n",
    "import numpy as np \n",
    "from sklearn.feature_extraction.text import CountVectorizer \n",
    "from sklearn.feature_extraction.text import TfidfVectorizer\n",
    "import seaborn as sns \n",
    "import matplotlib.pyplot as  plt "
   ]
  },
  {
   "cell_type": "code",
   "execution_count": 2,
   "id": "7db79e51-2dcc-45ad-ba81-a418422f4092",
   "metadata": {},
   "outputs": [],
   "source": [
    "# reading data from text file \n",
    "with open('SMSSpamCollection.txt','r') as file: \n",
    "    data = file.read()"
   ]
  },
  {
   "cell_type": "code",
   "execution_count": 3,
   "id": "6b5cc76b-0dee-4c3a-b424-fbbc3895af54",
   "metadata": {},
   "outputs": [],
   "source": [
    "temp = data.split('\\n')"
   ]
  },
  {
   "cell_type": "code",
   "execution_count": 4,
   "id": "7ce564d4-a8bd-42ee-bdd6-a3f8685799c0",
   "metadata": {},
   "outputs": [
    {
     "name": "stdout",
     "output_type": "stream",
     "text": [
      "No. of emails :  5575\n"
     ]
    }
   ],
   "source": [
    "print(\"No. of emails : \",len(temp) )"
   ]
  },
  {
   "cell_type": "code",
   "execution_count": 5,
   "id": "23d9a4f0-9538-4075-bba2-98278bc687dd",
   "metadata": {},
   "outputs": [],
   "source": [
    "x = [] \n",
    "y = [] \n",
    "for email_with_label in temp: \n",
    "    temp_emails = email_with_label.split('\\t') \n",
    "    if len(temp_emails) == 2 : \n",
    "        x.append(temp_emails[1])\n",
    "        y.append(temp_emails[0])\n",
    "        \n",
    "    "
   ]
  },
  {
   "cell_type": "code",
   "execution_count": 6,
   "id": "e7ce1c60-5b65-48c5-9043-f8bc4b667b9c",
   "metadata": {},
   "outputs": [
    {
     "data": {
      "text/plain": [
       "(5574, 5574)"
      ]
     },
     "execution_count": 6,
     "metadata": {},
     "output_type": "execute_result"
    }
   ],
   "source": [
    "len(x),len(y)"
   ]
  },
  {
   "cell_type": "code",
   "execution_count": 7,
   "id": "6de80340-fc43-41b9-b1b3-2748a585b235",
   "metadata": {},
   "outputs": [
    {
     "data": {
      "text/html": [
       "<div>\n",
       "<style scoped>\n",
       "    .dataframe tbody tr th:only-of-type {\n",
       "        vertical-align: middle;\n",
       "    }\n",
       "\n",
       "    .dataframe tbody tr th {\n",
       "        vertical-align: top;\n",
       "    }\n",
       "\n",
       "    .dataframe thead th {\n",
       "        text-align: right;\n",
       "    }\n",
       "</style>\n",
       "<table border=\"1\" class=\"dataframe\">\n",
       "  <thead>\n",
       "    <tr style=\"text-align: right;\">\n",
       "      <th></th>\n",
       "      <th>email_message</th>\n",
       "      <th>label</th>\n",
       "    </tr>\n",
       "  </thead>\n",
       "  <tbody>\n",
       "    <tr>\n",
       "      <th>0</th>\n",
       "      <td>Go until jurong point, crazy.. Available only ...</td>\n",
       "      <td>ham</td>\n",
       "    </tr>\n",
       "    <tr>\n",
       "      <th>1</th>\n",
       "      <td>Ok lar... Joking wif u oni...</td>\n",
       "      <td>ham</td>\n",
       "    </tr>\n",
       "    <tr>\n",
       "      <th>2</th>\n",
       "      <td>Free entry in 2 a wkly comp to win FA Cup fina...</td>\n",
       "      <td>spam</td>\n",
       "    </tr>\n",
       "    <tr>\n",
       "      <th>3</th>\n",
       "      <td>U dun say so early hor... U c already then say...</td>\n",
       "      <td>ham</td>\n",
       "    </tr>\n",
       "    <tr>\n",
       "      <th>4</th>\n",
       "      <td>Nah I don't think he goes to usf, he lives aro...</td>\n",
       "      <td>ham</td>\n",
       "    </tr>\n",
       "  </tbody>\n",
       "</table>\n",
       "</div>"
      ],
      "text/plain": [
       "                                       email_message label\n",
       "0  Go until jurong point, crazy.. Available only ...   ham\n",
       "1                      Ok lar... Joking wif u oni...   ham\n",
       "2  Free entry in 2 a wkly comp to win FA Cup fina...  spam\n",
       "3  U dun say so early hor... U c already then say...   ham\n",
       "4  Nah I don't think he goes to usf, he lives aro...   ham"
      ]
     },
     "execution_count": 7,
     "metadata": {},
     "output_type": "execute_result"
    }
   ],
   "source": [
    "# dataframe\n",
    "dt = {'email_message':x,\"label\":y}\n",
    "email_data = pd.DataFrame(dt)\n",
    "email_data.head()"
   ]
  },
  {
   "cell_type": "code",
   "execution_count": 8,
   "id": "d1e1eeb0-8163-4617-b387-56404a883de7",
   "metadata": {},
   "outputs": [],
   "source": [
    "# #alternative way \n",
    "# df2 = pd.read_table('SMSSpamCollection.txt',header=None)\n",
    "# df2.columns = ['label','email_message']\n",
    "# df2.head()\n"
   ]
  },
  {
   "cell_type": "code",
   "execution_count": 9,
   "id": "543bca2d-587d-422c-b667-530b6dc361b0",
   "metadata": {},
   "outputs": [
    {
     "data": {
      "text/plain": [
       "label\n",
       "ham     4827\n",
       "spam     747\n",
       "Name: count, dtype: int64"
      ]
     },
     "execution_count": 9,
     "metadata": {},
     "output_type": "execute_result"
    }
   ],
   "source": [
    "email_data['label'].value_counts()"
   ]
  },
  {
   "cell_type": "code",
   "execution_count": 10,
   "id": "ace44c9d-56df-4842-a72d-ce04dc0c2146",
   "metadata": {},
   "outputs": [],
   "source": [
    "spam = email_data[email_data['label']=='spam']\n",
    "ham = email_data[email_data['label']=='ham']"
   ]
  },
  {
   "cell_type": "code",
   "execution_count": 11,
   "id": "f67d862a-59d0-4569-a531-1278a7092c1f",
   "metadata": {},
   "outputs": [
    {
     "data": {
      "text/plain": [
       "(747, 2)"
      ]
     },
     "execution_count": 11,
     "metadata": {},
     "output_type": "execute_result"
    }
   ],
   "source": [
    "spam.shape "
   ]
  },
  {
   "cell_type": "code",
   "execution_count": 12,
   "id": "f313352c-3e78-40ea-a3cf-d833fbff50ab",
   "metadata": {},
   "outputs": [
    {
     "data": {
      "text/plain": [
       "(4827, 2)"
      ]
     },
     "execution_count": 12,
     "metadata": {},
     "output_type": "execute_result"
    }
   ],
   "source": [
    "ham.shape "
   ]
  },
  {
   "cell_type": "code",
   "execution_count": 13,
   "id": "5c810530-32c7-4cd3-8e4e-15c86c99c8ac",
   "metadata": {},
   "outputs": [],
   "source": [
    "ham = ham.sample(1000)   ## randomly 100 records "
   ]
  },
  {
   "cell_type": "code",
   "execution_count": 14,
   "id": "5185eb50-440d-4100-bd1d-a955d606c3cf",
   "metadata": {},
   "outputs": [
    {
     "data": {
      "text/plain": [
       "((747, 2), (1000, 2))"
      ]
     },
     "execution_count": 14,
     "metadata": {},
     "output_type": "execute_result"
    }
   ],
   "source": [
    "spam.shape , ham.shape "
   ]
  },
  {
   "cell_type": "code",
   "execution_count": 15,
   "id": "a08de03b-6515-484d-82ca-84e924ab3436",
   "metadata": {},
   "outputs": [],
   "source": [
    "final_df=pd.concat([ham,spam],axis=0)"
   ]
  },
  {
   "cell_type": "code",
   "execution_count": 16,
   "id": "59d693ed-b6b9-42dd-ba5d-3fbcb78536e2",
   "metadata": {},
   "outputs": [
    {
     "data": {
      "text/html": [
       "<div>\n",
       "<style scoped>\n",
       "    .dataframe tbody tr th:only-of-type {\n",
       "        vertical-align: middle;\n",
       "    }\n",
       "\n",
       "    .dataframe tbody tr th {\n",
       "        vertical-align: top;\n",
       "    }\n",
       "\n",
       "    .dataframe thead th {\n",
       "        text-align: right;\n",
       "    }\n",
       "</style>\n",
       "<table border=\"1\" class=\"dataframe\">\n",
       "  <thead>\n",
       "    <tr style=\"text-align: right;\">\n",
       "      <th></th>\n",
       "      <th>email_message</th>\n",
       "      <th>label</th>\n",
       "    </tr>\n",
       "  </thead>\n",
       "  <tbody>\n",
       "    <tr>\n",
       "      <th>2733</th>\n",
       "      <td>How dare you stupid. I wont tell anything to y...</td>\n",
       "      <td>ham</td>\n",
       "    </tr>\n",
       "    <tr>\n",
       "      <th>5288</th>\n",
       "      <td>I'm still pretty weak today .. Bad day ?</td>\n",
       "      <td>ham</td>\n",
       "    </tr>\n",
       "    <tr>\n",
       "      <th>5479</th>\n",
       "      <td>What Today-sunday..sunday is holiday..so no wo...</td>\n",
       "      <td>ham</td>\n",
       "    </tr>\n",
       "    <tr>\n",
       "      <th>3824</th>\n",
       "      <td>Please protect yourself from e-threats. SIB ne...</td>\n",
       "      <td>ham</td>\n",
       "    </tr>\n",
       "    <tr>\n",
       "      <th>3451</th>\n",
       "      <td>Ya just telling abt tht incident..</td>\n",
       "      <td>ham</td>\n",
       "    </tr>\n",
       "  </tbody>\n",
       "</table>\n",
       "</div>"
      ],
      "text/plain": [
       "                                          email_message label\n",
       "2733  How dare you stupid. I wont tell anything to y...   ham\n",
       "5288           I'm still pretty weak today .. Bad day ?   ham\n",
       "5479  What Today-sunday..sunday is holiday..so no wo...   ham\n",
       "3824  Please protect yourself from e-threats. SIB ne...   ham\n",
       "3451                 Ya just telling abt tht incident..   ham"
      ]
     },
     "execution_count": 16,
     "metadata": {},
     "output_type": "execute_result"
    }
   ],
   "source": [
    "final_df.head()"
   ]
  },
  {
   "cell_type": "code",
   "execution_count": 17,
   "id": "b19ec27a-ae87-4ccb-8533-3be82eede044",
   "metadata": {},
   "outputs": [
    {
     "data": {
      "text/plain": [
       "(1747, 2)"
      ]
     },
     "execution_count": 17,
     "metadata": {},
     "output_type": "execute_result"
    }
   ],
   "source": [
    "final_df.shape"
   ]
  },
  {
   "cell_type": "code",
   "execution_count": 18,
   "id": "33de5c4a-6175-4483-93d3-f4aba9d25214",
   "metadata": {},
   "outputs": [],
   "source": [
    "### Text cleaning  \n",
    "import re   # regular expression "
   ]
  },
  {
   "cell_type": "code",
   "execution_count": 19,
   "id": "61f911eb-4080-4551-a1bc-42d2a39bac60",
   "metadata": {},
   "outputs": [],
   "source": [
    "# index reassigning \n",
    "final_df.reset_index(drop=True,inplace=True)"
   ]
  },
  {
   "cell_type": "code",
   "execution_count": 20,
   "id": "864e0de8-a22e-4b79-b929-e917c3d16e61",
   "metadata": {},
   "outputs": [
    {
     "data": {
      "text/plain": [
       "'How are you. Just checking up on you'"
      ]
     },
     "execution_count": 20,
     "metadata": {},
     "output_type": "execute_result"
    }
   ],
   "source": [
    "final_df['email_message'][25]\n",
    "# a-z , A-z "
   ]
  },
  {
   "cell_type": "code",
   "execution_count": 21,
   "id": "ebce5d5a-ffad-4b90-873a-8ad4779fe4ba",
   "metadata": {},
   "outputs": [
    {
     "name": "stderr",
     "output_type": "stream",
     "text": [
      "C:\\Users\\Ranjit\\AppData\\Local\\Temp\\ipykernel_6632\\488455171.py:2: FutureWarning: ChainedAssignmentError: behaviour will change in pandas 3.0!\n",
      "You are setting values through chained assignment. Currently this works in certain cases, but when using Copy-on-Write (which will become the default behaviour in pandas 3.0) this will never work to update the original DataFrame or Series, because the intermediate object on which we are setting values will behave as a copy.\n",
      "A typical example is when you are setting values in a column of a DataFrame, like:\n",
      "\n",
      "df[\"col\"][row_indexer] = value\n",
      "\n",
      "Use `df.loc[row_indexer, \"col\"] = values` instead, to perform the assignment in a single step and ensure this keeps updating the original `df`.\n",
      "\n",
      "See the caveats in the documentation: https://pandas.pydata.org/pandas-docs/stable/user_guide/indexing.html#returning-a-view-versus-a-copy\n",
      "\n",
      "  final_df['email_message'][i] = re.sub('[^a-zA-Z ]','',final_df['email_message'][i]).lower()\n"
     ]
    }
   ],
   "source": [
    "for i in range(len(final_df)): \n",
    "    final_df['email_message'][i] = re.sub('[^a-zA-Z ]','',final_df['email_message'][i]).lower()\n"
   ]
  },
  {
   "cell_type": "code",
   "execution_count": 22,
   "id": "62fa2402-300d-437e-85ab-46fa5c023bba",
   "metadata": {},
   "outputs": [
    {
     "data": {
      "text/html": [
       "<div>\n",
       "<style scoped>\n",
       "    .dataframe tbody tr th:only-of-type {\n",
       "        vertical-align: middle;\n",
       "    }\n",
       "\n",
       "    .dataframe tbody tr th {\n",
       "        vertical-align: top;\n",
       "    }\n",
       "\n",
       "    .dataframe thead th {\n",
       "        text-align: right;\n",
       "    }\n",
       "</style>\n",
       "<table border=\"1\" class=\"dataframe\">\n",
       "  <thead>\n",
       "    <tr style=\"text-align: right;\">\n",
       "      <th></th>\n",
       "      <th>email_message</th>\n",
       "      <th>label</th>\n",
       "    </tr>\n",
       "  </thead>\n",
       "  <tbody>\n",
       "    <tr>\n",
       "      <th>0</th>\n",
       "      <td>how dare you stupid i wont tell anything to yo...</td>\n",
       "      <td>ham</td>\n",
       "    </tr>\n",
       "    <tr>\n",
       "      <th>1</th>\n",
       "      <td>im still pretty weak today  bad day</td>\n",
       "      <td>ham</td>\n",
       "    </tr>\n",
       "    <tr>\n",
       "      <th>2</th>\n",
       "      <td>what todaysundaysunday is holidayso no work</td>\n",
       "      <td>ham</td>\n",
       "    </tr>\n",
       "    <tr>\n",
       "      <th>3</th>\n",
       "      <td>please protect yourself from ethreats sib neve...</td>\n",
       "      <td>ham</td>\n",
       "    </tr>\n",
       "    <tr>\n",
       "      <th>4</th>\n",
       "      <td>ya just telling abt tht incident</td>\n",
       "      <td>ham</td>\n",
       "    </tr>\n",
       "  </tbody>\n",
       "</table>\n",
       "</div>"
      ],
      "text/plain": [
       "                                       email_message label\n",
       "0  how dare you stupid i wont tell anything to yo...   ham\n",
       "1               im still pretty weak today  bad day    ham\n",
       "2        what todaysundaysunday is holidayso no work   ham\n",
       "3  please protect yourself from ethreats sib neve...   ham\n",
       "4                   ya just telling abt tht incident   ham"
      ]
     },
     "execution_count": 22,
     "metadata": {},
     "output_type": "execute_result"
    }
   ],
   "source": [
    "final_df.head()"
   ]
  },
  {
   "cell_type": "code",
   "execution_count": 23,
   "id": "2743d033-3f82-447f-81f6-fd8c1daa79ef",
   "metadata": {},
   "outputs": [],
   "source": [
    "## alphabet -->  label map() \n",
    "# spam = 1 \n",
    "# ham = 0  \n",
    "\n",
    "labels = list(final_df['label'])\n",
    "temp_labels = [1 if item ==\"spam\" else 0 for item in labels]\n",
    "final_df['label'] = temp_labels\n"
   ]
  },
  {
   "cell_type": "code",
   "execution_count": 24,
   "id": "a4f9bf5e-34ef-4333-b916-3029d1b2fac6",
   "metadata": {},
   "outputs": [
    {
     "data": {
      "text/html": [
       "<div>\n",
       "<style scoped>\n",
       "    .dataframe tbody tr th:only-of-type {\n",
       "        vertical-align: middle;\n",
       "    }\n",
       "\n",
       "    .dataframe tbody tr th {\n",
       "        vertical-align: top;\n",
       "    }\n",
       "\n",
       "    .dataframe thead th {\n",
       "        text-align: right;\n",
       "    }\n",
       "</style>\n",
       "<table border=\"1\" class=\"dataframe\">\n",
       "  <thead>\n",
       "    <tr style=\"text-align: right;\">\n",
       "      <th></th>\n",
       "      <th>email_message</th>\n",
       "      <th>label</th>\n",
       "    </tr>\n",
       "  </thead>\n",
       "  <tbody>\n",
       "    <tr>\n",
       "      <th>0</th>\n",
       "      <td>how dare you stupid i wont tell anything to yo...</td>\n",
       "      <td>0</td>\n",
       "    </tr>\n",
       "    <tr>\n",
       "      <th>1</th>\n",
       "      <td>im still pretty weak today  bad day</td>\n",
       "      <td>0</td>\n",
       "    </tr>\n",
       "    <tr>\n",
       "      <th>2</th>\n",
       "      <td>what todaysundaysunday is holidayso no work</td>\n",
       "      <td>0</td>\n",
       "    </tr>\n",
       "    <tr>\n",
       "      <th>3</th>\n",
       "      <td>please protect yourself from ethreats sib neve...</td>\n",
       "      <td>0</td>\n",
       "    </tr>\n",
       "    <tr>\n",
       "      <th>4</th>\n",
       "      <td>ya just telling abt tht incident</td>\n",
       "      <td>0</td>\n",
       "    </tr>\n",
       "  </tbody>\n",
       "</table>\n",
       "</div>"
      ],
      "text/plain": [
       "                                       email_message  label\n",
       "0  how dare you stupid i wont tell anything to yo...      0\n",
       "1               im still pretty weak today  bad day       0\n",
       "2        what todaysundaysunday is holidayso no work      0\n",
       "3  please protect yourself from ethreats sib neve...      0\n",
       "4                   ya just telling abt tht incident      0"
      ]
     },
     "execution_count": 24,
     "metadata": {},
     "output_type": "execute_result"
    }
   ],
   "source": [
    "final_df.head()"
   ]
  },
  {
   "cell_type": "markdown",
   "id": "fba754f7-64f5-4c80-890c-4496f4f6bff8",
   "metadata": {},
   "source": [
    "<!-- ## independent and dependent x and y variable   -->"
   ]
  },
  {
   "cell_type": "code",
   "execution_count": 25,
   "id": "3f612bdd-1c61-4f54-93fa-38a53d50155a",
   "metadata": {},
   "outputs": [],
   "source": [
    "x = final_df['email_message']\n",
    "y = final_df['label']"
   ]
  },
  {
   "cell_type": "code",
   "execution_count": 26,
   "id": "2bdee382-9e12-4e23-a4a8-cb76aa12e44c",
   "metadata": {},
   "outputs": [],
   "source": [
    "x = x.values"
   ]
  },
  {
   "cell_type": "code",
   "execution_count": 27,
   "id": "3076a323-dbe4-4fd2-be79-8bc7470d3e38",
   "metadata": {},
   "outputs": [],
   "source": [
    " bow_obj = CountVectorizer(max_features=1500,stop_words='english')"
   ]
  },
  {
   "cell_type": "code",
   "execution_count": 28,
   "id": "1c750c9e-a33a-4104-87e6-dd84388b5992",
   "metadata": {},
   "outputs": [],
   "source": [
    "X =  bow_obj.fit_transform(x)"
   ]
  },
  {
   "cell_type": "code",
   "execution_count": 34,
   "id": "9da91071-953b-4a67-9171-a0c6c806a041",
   "metadata": {},
   "outputs": [
    {
     "data": {
      "text/plain": [
       "<1747x1500 sparse matrix of type '<class 'numpy.int64'>'\n",
       "\twith 12642 stored elements in Compressed Sparse Row format>"
      ]
     },
     "execution_count": 34,
     "metadata": {},
     "output_type": "execute_result"
    }
   ],
   "source": [
    "X "
   ]
  },
  {
   "cell_type": "code",
   "execution_count": 35,
   "id": "bf9c26e4-7916-43f7-8056-207eb76f5de1",
   "metadata": {},
   "outputs": [],
   "source": [
    "X = X.toarray()"
   ]
  },
  {
   "cell_type": "code",
   "execution_count": 36,
   "id": "1f383453-1079-4402-ba9a-8305f2da4949",
   "metadata": {},
   "outputs": [
    {
     "data": {
      "text/plain": [
       "array([[0, 0, 0, ..., 0, 0, 0],\n",
       "       [0, 0, 0, ..., 0, 0, 0],\n",
       "       [0, 0, 0, ..., 0, 0, 0],\n",
       "       ...,\n",
       "       [0, 0, 0, ..., 0, 0, 0],\n",
       "       [0, 0, 0, ..., 0, 0, 0],\n",
       "       [0, 0, 0, ..., 0, 0, 0]], dtype=int64)"
      ]
     },
     "execution_count": 36,
     "metadata": {},
     "output_type": "execute_result"
    }
   ],
   "source": [
    "X "
   ]
  },
  {
   "cell_type": "code",
   "execution_count": 37,
   "id": "f2efd032-9ade-4003-8a10-a123fe07661d",
   "metadata": {},
   "outputs": [
    {
     "data": {
      "text/plain": [
       "0       0\n",
       "1       0\n",
       "2       0\n",
       "3       0\n",
       "4       0\n",
       "       ..\n",
       "1742    1\n",
       "1743    1\n",
       "1744    1\n",
       "1745    1\n",
       "1746    1\n",
       "Name: label, Length: 1747, dtype: int64"
      ]
     },
     "execution_count": 37,
     "metadata": {},
     "output_type": "execute_result"
    }
   ],
   "source": [
    "y "
   ]
  },
  {
   "cell_type": "code",
   "execution_count": 39,
   "id": "44312d20-a94c-41f9-9014-f8befc870231",
   "metadata": {},
   "outputs": [
    {
     "data": {
      "text/plain": [
       "((1747, 1500), (1747,))"
      ]
     },
     "execution_count": 39,
     "metadata": {},
     "output_type": "execute_result"
    }
   ],
   "source": [
    "X.shape , y.shape "
   ]
  },
  {
   "cell_type": "code",
   "execution_count": 40,
   "id": "5f5f4666-aeee-4c87-8afe-adf2f1df00f4",
   "metadata": {},
   "outputs": [],
   "source": [
    "from sklearn.model_selection import train_test_split"
   ]
  },
  {
   "cell_type": "code",
   "execution_count": 43,
   "id": "be0604d6-62e3-4300-b5b0-973358dce50e",
   "metadata": {},
   "outputs": [],
   "source": [
    "# training and testing splitting \n",
    "x_train,x_test,y_train,y_test = train_test_split(X,y,test_size=0.15)"
   ]
  },
  {
   "cell_type": "code",
   "execution_count": 44,
   "id": "9c44326d-7d43-40eb-b3d9-c516c59b0c06",
   "metadata": {},
   "outputs": [
    {
     "data": {
      "text/plain": [
       "(1484, 1500)"
      ]
     },
     "execution_count": 44,
     "metadata": {},
     "output_type": "execute_result"
    }
   ],
   "source": [
    "x_train.shape "
   ]
  },
  {
   "cell_type": "code",
   "execution_count": 46,
   "id": "7cd193df-92e3-488d-b094-7d63d13c6d40",
   "metadata": {},
   "outputs": [],
   "source": [
    "# algorithms to perform classification task \n",
    "from sklearn.naive_bayes import BernoulliNB,GaussianNB,MultinomialNB\n",
    "from sklearn.tree import DecisionTreeClassifier \n",
    "from sklearn.ensemble import RandomForestClassifier \n",
    "from sklearn.linear_model import LogisticRegression "
   ]
  },
  {
   "cell_type": "code",
   "execution_count": 47,
   "id": "4c39abb8-f60d-41f4-839c-227f09c177f0",
   "metadata": {},
   "outputs": [],
   "source": [
    "## object creation \n",
    "bnb = BernoulliNB()\n",
    "GNb = GaussianNB() \n",
    "mnb = MultinomialNB()"
   ]
  },
  {
   "cell_type": "code",
   "execution_count": 48,
   "id": "df0ca04e-5675-45d5-94e0-8efe01679c01",
   "metadata": {},
   "outputs": [
    {
     "name": "stdout",
     "output_type": "stream",
     "text": [
      "BernoulliNB Trained\n",
      "MultinomialNB Trained\n",
      "GaussianNB training!\n"
     ]
    }
   ],
   "source": [
    "## training algorithms\n",
    "bnb.fit(x_train,y_train)\n",
    "print(\"BernoulliNB Trained\")\n",
    "mnb.fit(x_train,y_train)\n",
    "print(\"MultinomialNB Trained\")\n",
    "GNb.fit(x_train,y_train)\n",
    "print('GaussianNB training!')\n"
   ]
  },
  {
   "cell_type": "code",
   "execution_count": 49,
   "id": "f9a862cc-a279-4b16-950d-ebfc331bb6a3",
   "metadata": {},
   "outputs": [
    {
     "name": "stdout",
     "output_type": "stream",
     "text": [
      "MultinomialNB Training score :  0.9663072776280324\n",
      "MultinomialNB Testing score :  0.9619771863117871\n",
      "\n",
      "BernoulliNB Training score :  0.9568733153638814\n",
      "BernoulliNB Testing score :  0.9695817490494296\n",
      "\n",
      "GaussianNB Training score :  0.9797843665768194\n",
      "GaussianNB Testing score :  0.9619771863117871\n"
     ]
    }
   ],
   "source": [
    "print(\"MultinomialNB Training score : \",mnb.score(x_train,y_train))\n",
    "print(\"MultinomialNB Testing score : \",mnb.score(x_test,y_test))\n",
    "print()\n",
    "print(\"BernoulliNB Training score : \",bnb.score(x_train,y_train))\n",
    "print(\"BernoulliNB Testing score : \",bnb.score(x_test,y_test))\n",
    "print()\n",
    "print(\"GaussianNB Training score : \",GNb.score(x_train,y_train))\n",
    "print(\"GaussianNB Testing score : \",GNb.score(x_test,y_test))\n",
    "\n"
   ]
  },
  {
   "cell_type": "code",
   "execution_count": null,
   "id": "bd5c1c46-f351-4e2b-b548-e3597a3dd596",
   "metadata": {},
   "outputs": [],
   "source": [
    "## Prediction  \n"
   ]
  },
  {
   "cell_type": "code",
   "execution_count": 51,
   "id": "d441529f-cbeb-46ad-b371-32a6871cce81",
   "metadata": {},
   "outputs": [
    {
     "data": {
      "text/plain": [
       "(263, 1500)"
      ]
     },
     "execution_count": 51,
     "metadata": {},
     "output_type": "execute_result"
    }
   ],
   "source": [
    "x_test.shape "
   ]
  },
  {
   "cell_type": "code",
   "execution_count": 52,
   "id": "28922304-0a23-4f95-aa0f-93621398098c",
   "metadata": {},
   "outputs": [],
   "source": [
    "prediction = mnb.predict(x_test)"
   ]
  },
  {
   "cell_type": "code",
   "execution_count": 54,
   "id": "71363279-836b-473d-bd37-6a5600f52904",
   "metadata": {},
   "outputs": [
    {
     "data": {
      "text/plain": [
       "632     0\n",
       "1176    1\n",
       "383     0\n",
       "1086    1\n",
       "143     0\n",
       "       ..\n",
       "467     0\n",
       "276     0\n",
       "1375    1\n",
       "1229    1\n",
       "1017    1\n",
       "Name: label, Length: 263, dtype: int64"
      ]
     },
     "execution_count": 54,
     "metadata": {},
     "output_type": "execute_result"
    }
   ],
   "source": [
    "y_test "
   ]
  },
  {
   "cell_type": "code",
   "execution_count": 53,
   "id": "9a9b3cc0-e45c-489f-b7cf-853aba6b0ac0",
   "metadata": {},
   "outputs": [
    {
     "data": {
      "text/plain": [
       "array([0, 1, 0, 1, 1, 0, 1, 0, 0, 1, 1, 0, 0, 0, 0, 0, 0, 1, 1, 0, 0, 1,\n",
       "       1, 0, 0, 0, 1, 1, 0, 1, 0, 0, 0, 0, 0, 0, 1, 0, 0, 1, 0, 1, 0, 0,\n",
       "       0, 1, 1, 0, 0, 0, 1, 0, 0, 1, 0, 0, 0, 0, 1, 1, 0, 1, 1, 0, 1, 0,\n",
       "       1, 1, 1, 1, 1, 1, 0, 1, 1, 0, 1, 0, 0, 0, 1, 0, 0, 0, 0, 0, 1, 0,\n",
       "       0, 1, 0, 0, 1, 0, 1, 1, 1, 1, 1, 1, 0, 0, 0, 0, 0, 1, 0, 0, 0, 0,\n",
       "       1, 0, 0, 0, 0, 0, 0, 0, 0, 0, 0, 1, 0, 0, 1, 0, 1, 1, 0, 0, 0, 0,\n",
       "       0, 0, 1, 0, 1, 0, 1, 0, 0, 1, 0, 0, 0, 1, 0, 1, 0, 1, 1, 0, 0, 1,\n",
       "       0, 0, 0, 0, 1, 0, 0, 0, 0, 1, 1, 0, 0, 0, 1, 1, 1, 1, 1, 1, 0, 0,\n",
       "       1, 0, 0, 0, 0, 1, 0, 1, 0, 0, 1, 1, 0, 0, 0, 0, 0, 0, 1, 0, 1, 1,\n",
       "       1, 0, 1, 1, 1, 0, 1, 0, 0, 0, 1, 0, 1, 0, 0, 0, 1, 1, 1, 1, 1, 0,\n",
       "       0, 1, 0, 0, 0, 0, 1, 0, 1, 0, 0, 1, 1, 1, 0, 1, 0, 0, 0, 1, 0, 0,\n",
       "       0, 1, 1, 0, 0, 1, 0, 0, 0, 0, 0, 1, 1, 1, 1, 1, 0, 0, 1, 1, 1],\n",
       "      dtype=int64)"
      ]
     },
     "execution_count": 53,
     "metadata": {},
     "output_type": "execute_result"
    }
   ],
   "source": [
    "prediction"
   ]
  },
  {
   "cell_type": "code",
   "execution_count": 61,
   "id": "9ff19ff4-16c0-48d5-86ab-e90595fe6173",
   "metadata": {},
   "outputs": [
    {
     "data": {
      "text/html": [
       "<div>\n",
       "<style scoped>\n",
       "    .dataframe tbody tr th:only-of-type {\n",
       "        vertical-align: middle;\n",
       "    }\n",
       "\n",
       "    .dataframe tbody tr th {\n",
       "        vertical-align: top;\n",
       "    }\n",
       "\n",
       "    .dataframe thead th {\n",
       "        text-align: right;\n",
       "    }\n",
       "</style>\n",
       "<table border=\"1\" class=\"dataframe\">\n",
       "  <thead>\n",
       "    <tr style=\"text-align: right;\">\n",
       "      <th></th>\n",
       "      <th>Actual</th>\n",
       "      <th>Prediction</th>\n",
       "    </tr>\n",
       "  </thead>\n",
       "  <tbody>\n",
       "    <tr>\n",
       "      <th>0</th>\n",
       "      <td>0</td>\n",
       "      <td>0</td>\n",
       "    </tr>\n",
       "    <tr>\n",
       "      <th>1</th>\n",
       "      <td>1</td>\n",
       "      <td>1</td>\n",
       "    </tr>\n",
       "    <tr>\n",
       "      <th>2</th>\n",
       "      <td>0</td>\n",
       "      <td>0</td>\n",
       "    </tr>\n",
       "    <tr>\n",
       "      <th>3</th>\n",
       "      <td>1</td>\n",
       "      <td>1</td>\n",
       "    </tr>\n",
       "    <tr>\n",
       "      <th>4</th>\n",
       "      <td>0</td>\n",
       "      <td>1</td>\n",
       "    </tr>\n",
       "    <tr>\n",
       "      <th>5</th>\n",
       "      <td>0</td>\n",
       "      <td>0</td>\n",
       "    </tr>\n",
       "    <tr>\n",
       "      <th>6</th>\n",
       "      <td>1</td>\n",
       "      <td>1</td>\n",
       "    </tr>\n",
       "    <tr>\n",
       "      <th>7</th>\n",
       "      <td>0</td>\n",
       "      <td>0</td>\n",
       "    </tr>\n",
       "    <tr>\n",
       "      <th>8</th>\n",
       "      <td>0</td>\n",
       "      <td>0</td>\n",
       "    </tr>\n",
       "    <tr>\n",
       "      <th>9</th>\n",
       "      <td>1</td>\n",
       "      <td>1</td>\n",
       "    </tr>\n",
       "    <tr>\n",
       "      <th>10</th>\n",
       "      <td>1</td>\n",
       "      <td>1</td>\n",
       "    </tr>\n",
       "    <tr>\n",
       "      <th>11</th>\n",
       "      <td>1</td>\n",
       "      <td>0</td>\n",
       "    </tr>\n",
       "    <tr>\n",
       "      <th>12</th>\n",
       "      <td>0</td>\n",
       "      <td>0</td>\n",
       "    </tr>\n",
       "    <tr>\n",
       "      <th>13</th>\n",
       "      <td>0</td>\n",
       "      <td>0</td>\n",
       "    </tr>\n",
       "    <tr>\n",
       "      <th>14</th>\n",
       "      <td>0</td>\n",
       "      <td>0</td>\n",
       "    </tr>\n",
       "    <tr>\n",
       "      <th>15</th>\n",
       "      <td>0</td>\n",
       "      <td>0</td>\n",
       "    </tr>\n",
       "    <tr>\n",
       "      <th>16</th>\n",
       "      <td>0</td>\n",
       "      <td>0</td>\n",
       "    </tr>\n",
       "    <tr>\n",
       "      <th>17</th>\n",
       "      <td>1</td>\n",
       "      <td>1</td>\n",
       "    </tr>\n",
       "    <tr>\n",
       "      <th>18</th>\n",
       "      <td>1</td>\n",
       "      <td>1</td>\n",
       "    </tr>\n",
       "    <tr>\n",
       "      <th>19</th>\n",
       "      <td>0</td>\n",
       "      <td>0</td>\n",
       "    </tr>\n",
       "    <tr>\n",
       "      <th>20</th>\n",
       "      <td>0</td>\n",
       "      <td>0</td>\n",
       "    </tr>\n",
       "    <tr>\n",
       "      <th>21</th>\n",
       "      <td>1</td>\n",
       "      <td>1</td>\n",
       "    </tr>\n",
       "    <tr>\n",
       "      <th>22</th>\n",
       "      <td>1</td>\n",
       "      <td>1</td>\n",
       "    </tr>\n",
       "    <tr>\n",
       "      <th>23</th>\n",
       "      <td>0</td>\n",
       "      <td>0</td>\n",
       "    </tr>\n",
       "    <tr>\n",
       "      <th>24</th>\n",
       "      <td>0</td>\n",
       "      <td>0</td>\n",
       "    </tr>\n",
       "    <tr>\n",
       "      <th>25</th>\n",
       "      <td>0</td>\n",
       "      <td>0</td>\n",
       "    </tr>\n",
       "    <tr>\n",
       "      <th>26</th>\n",
       "      <td>1</td>\n",
       "      <td>1</td>\n",
       "    </tr>\n",
       "    <tr>\n",
       "      <th>27</th>\n",
       "      <td>1</td>\n",
       "      <td>1</td>\n",
       "    </tr>\n",
       "    <tr>\n",
       "      <th>28</th>\n",
       "      <td>0</td>\n",
       "      <td>0</td>\n",
       "    </tr>\n",
       "    <tr>\n",
       "      <th>29</th>\n",
       "      <td>1</td>\n",
       "      <td>1</td>\n",
       "    </tr>\n",
       "    <tr>\n",
       "      <th>30</th>\n",
       "      <td>0</td>\n",
       "      <td>0</td>\n",
       "    </tr>\n",
       "    <tr>\n",
       "      <th>31</th>\n",
       "      <td>0</td>\n",
       "      <td>0</td>\n",
       "    </tr>\n",
       "    <tr>\n",
       "      <th>32</th>\n",
       "      <td>0</td>\n",
       "      <td>0</td>\n",
       "    </tr>\n",
       "    <tr>\n",
       "      <th>33</th>\n",
       "      <td>0</td>\n",
       "      <td>0</td>\n",
       "    </tr>\n",
       "    <tr>\n",
       "      <th>34</th>\n",
       "      <td>0</td>\n",
       "      <td>0</td>\n",
       "    </tr>\n",
       "    <tr>\n",
       "      <th>35</th>\n",
       "      <td>0</td>\n",
       "      <td>0</td>\n",
       "    </tr>\n",
       "    <tr>\n",
       "      <th>36</th>\n",
       "      <td>1</td>\n",
       "      <td>1</td>\n",
       "    </tr>\n",
       "    <tr>\n",
       "      <th>37</th>\n",
       "      <td>0</td>\n",
       "      <td>0</td>\n",
       "    </tr>\n",
       "    <tr>\n",
       "      <th>38</th>\n",
       "      <td>0</td>\n",
       "      <td>0</td>\n",
       "    </tr>\n",
       "    <tr>\n",
       "      <th>39</th>\n",
       "      <td>1</td>\n",
       "      <td>1</td>\n",
       "    </tr>\n",
       "  </tbody>\n",
       "</table>\n",
       "</div>"
      ],
      "text/plain": [
       "    Actual  Prediction\n",
       "0        0           0\n",
       "1        1           1\n",
       "2        0           0\n",
       "3        1           1\n",
       "4        0           1\n",
       "5        0           0\n",
       "6        1           1\n",
       "7        0           0\n",
       "8        0           0\n",
       "9        1           1\n",
       "10       1           1\n",
       "11       1           0\n",
       "12       0           0\n",
       "13       0           0\n",
       "14       0           0\n",
       "15       0           0\n",
       "16       0           0\n",
       "17       1           1\n",
       "18       1           1\n",
       "19       0           0\n",
       "20       0           0\n",
       "21       1           1\n",
       "22       1           1\n",
       "23       0           0\n",
       "24       0           0\n",
       "25       0           0\n",
       "26       1           1\n",
       "27       1           1\n",
       "28       0           0\n",
       "29       1           1\n",
       "30       0           0\n",
       "31       0           0\n",
       "32       0           0\n",
       "33       0           0\n",
       "34       0           0\n",
       "35       0           0\n",
       "36       1           1\n",
       "37       0           0\n",
       "38       0           0\n",
       "39       1           1"
      ]
     },
     "execution_count": 61,
     "metadata": {},
     "output_type": "execute_result"
    }
   ],
   "source": [
    "pred = list(prediction)\n",
    "actual = list(y_test)\n",
    "\n",
    "comparison_df = pd.DataFrame({\"Actual\":actual,'Prediction':pred})\n",
    "comparison_df.head()"
   ]
  },
  {
   "cell_type": "code",
   "execution_count": 62,
   "id": "9e47367c-d87a-4e85-8841-895759490424",
   "metadata": {},
   "outputs": [],
   "source": [
    "from sklearn.metrics import confusion_matrix, classification_report"
   ]
  },
  {
   "cell_type": "code",
   "execution_count": 67,
   "id": "b5e668e3-a90d-4911-a11c-1a287b323646",
   "metadata": {},
   "outputs": [
    {
     "data": {
      "text/plain": [
       "array([[152,   6],\n",
       "       [  4, 101]], dtype=int64)"
      ]
     },
     "execution_count": 67,
     "metadata": {},
     "output_type": "execute_result"
    }
   ],
   "source": [
    "matrix = confusion_matrix(comparison_df['Actual'] , comparison_df['Prediction'])\n",
    "matrix"
   ]
  },
  {
   "cell_type": "code",
   "execution_count": 76,
   "id": "579031ec-1934-41eb-88d9-e4be200bb640",
   "metadata": {},
   "outputs": [
    {
     "data": {
      "image/png": "[encoded data removed]",
      "text/plain": [
       "<Figure size 640x480 with 2 Axes>"
      ]
     },
     "metadata": {},
     "output_type": "display_data"
    }
   ],
   "source": [
    "sns.heatmap(matrix,annot=True,fmt='d') \n",
    "plt.title('confustion matrix on email classification project')\n",
    "plt.show()"
   ]
  },
  {
   "cell_type": "code",
   "execution_count": 78,
   "id": "a2613c16-ee38-4acb-8ee0-41f66d12bab0",
   "metadata": {},
   "outputs": [
    {
     "name": "stdout",
     "output_type": "stream",
     "text": [
      "              precision    recall  f1-score   support\n",
      "\n",
      "           0       0.97      0.96      0.97       158\n",
      "           1       0.94      0.96      0.95       105\n",
      "\n",
      "    accuracy                           0.96       263\n",
      "   macro avg       0.96      0.96      0.96       263\n",
      "weighted avg       0.96      0.96      0.96       263\n",
      "\n"
     ]
    }
   ],
   "source": [
    "print(classification_report(comparison_df['Actual'] , comparison_df['Prediction']))"
   ]
  },
  {
   "cell_type": "code",
   "execution_count": null,
   "id": "deca1d3b-9c5c-4da6-8a12-b71a1e1f7c9f",
   "metadata": {},
   "outputs": [],
   "source": [
    "### savings our models or algorithms "
   ]
  },
  {
   "cell_type": "code",
   "execution_count": 81,
   "id": "a69de6a9-4aa4-4555-b62b-6f168ebe8ca3",
   "metadata": {},
   "outputs": [],
   "source": [
    "import os,joblib"
   ]
  },
  {
   "cell_type": "code",
   "execution_count": 80,
   "id": "026dce02-0c8c-40ef-986f-aabdf7e6b433",
   "metadata": {},
   "outputs": [],
   "source": [
    "os.makedirs('models',exist_ok=True)"
   ]
  },
  {
   "cell_type": "code",
   "execution_count": 82,
   "id": "6bac0f51-5cdc-4c34-a81e-770e69036b6f",
   "metadata": {},
   "outputs": [
    {
     "data": {
      "text/plain": [
       "['./models/multinomialNB.lb']"
      ]
     },
     "execution_count": 82,
     "metadata": {},
     "output_type": "execute_result"
    }
   ],
   "source": [
    "##\n",
    "joblib.dump(bnb,\"./models/bernouliNB.lb\")\n",
    "joblib.dump(GNb,\"./models/gasussianNB.lb\")\n",
    "joblib.dump(mnb,\"./models/multinomialNB.lb\")\n"
   ]
  },
  {
   "cell_type": "code",
   "execution_count": 84,
   "id": "10faa365-93f6-4a84-81e3-aca4c4b22da4",
   "metadata": {},
   "outputs": [
    {
     "data": {
      "text/plain": [
       "['./models/bag_of_words.lb']"
      ]
     },
     "execution_count": 84,
     "metadata": {},
     "output_type": "execute_result"
    }
   ],
   "source": [
    "## bow_obj \n",
    "joblib.dump(bow_obj,'./models/bag_of_words.lb')"
   ]
  },
  {
   "cell_type": "code",
   "execution_count": null,
   "id": "35d8179f-6d6c-4c75-992c-52fea8b51450",
   "metadata": {},
   "outputs": [],
   "source": []
  },
  {
   "cell_type": "code",
   "execution_count": null,
   "id": "edb5af8c-b5f2-4d03-9971-8941a7cebc70",
   "metadata": {},
   "outputs": [],
   "source": []
  },
  {
   "cell_type": "code",
   "execution_count": null,
   "id": "65a718ba-cf88-452a-9359-1fa780e7ae45",
   "metadata": {},
   "outputs": [],
   "source": []
  },
  {
   "cell_type": "code",
   "execution_count": null,
   "id": "546971e3-e9c1-45b6-ba7e-11e5f27f85c6",
   "metadata": {},
   "outputs": [],
   "source": []
  },
  {
   "cell_type": "code",
   "execution_count": null,
   "id": "f42b749c-f790-40ef-b67c-493adefad8d4",
   "metadata": {},
   "outputs": [],
   "source": []
  },
  {
   "cell_type": "code",
   "execution_count": null,
   "id": "263f5d60-f752-4974-baa1-302b48496d48",
   "metadata": {},
   "outputs": [],
   "source": []
  },
  {
   "cell_type": "markdown",
   "id": "92aecf8a-3098-4150-9227-17d54d7ab7e5",
   "metadata": {},
   "source": [
    "### PRectise "
   ]
  },
  {
   "cell_type": "code",
   "execution_count": 31,
   "id": "edf5d01d-74f9-4cb0-ab89-ecfe9a3d3838",
   "metadata": {},
   "outputs": [],
   "source": [
    "import numpy as np "
   ]
  },
  {
   "cell_type": "code",
   "execution_count": 32,
   "id": "9580ee04-dbd9-4f8f-8b70-e3ef4141cf0c",
   "metadata": {},
   "outputs": [
    {
     "data": {
      "text/plain": [
       "array([177, 477,  12, 339, 151,  97, 913, 340, 796, 175, 421,  70, 228,\n",
       "       385, 637,  97, 182, 509, 200, 214, 214, 218, 536, 757, 733, 954,\n",
       "         8, 491, 593, 311, 431, 534, 377, 960, 204, 596, 474, 755, 882,\n",
       "       849, 785, 431, 382, 378,   7, 588, 412,   9, 162, 913, 236, 624,\n",
       "       869,  64, 751, 255, 610, 196, 673, 290, 171,   7, 773,  27, 431,\n",
       "       439, 132, 745, 448,  52, 463,  67, 919, 873, 121, 979, 916, 975,\n",
       "       803, 554, 852, 458,  69,  37,  36,  53, 475, 318, 806, 733, 996,\n",
       "       988, 833, 907, 783, 866, 230, 175, 943, 206, 673, 318, 520, 730,\n",
       "       336, 465, 510, 511, 916,  94, 456, 651,  45, 543,  87,  39,  36,\n",
       "       108, 560, 202,  12, 250, 545, 959, 464, 936, 406, 868, 708, 477,\n",
       "       175, 516,  74, 307, 174, 603, 676, 450, 488, 700, 146, 152, 151,\n",
       "       546, 804, 111, 892, 304, 406, 377, 562,  38, 995, 226, 970, 368,\n",
       "       358, 412, 440, 557, 876,  62, 803, 118, 864, 637, 175, 628,  41,\n",
       "       105,   9, 186,  19, 690, 107, 506, 331, 818, 129, 282, 437, 680,\n",
       "       795, 369, 179,  90, 947, 115, 528, 357, 449, 101, 386,  76, 933,\n",
       "       966, 567,  97, 513, 962,  27, 722, 242, 414, 445, 347, 948, 369,\n",
       "       762, 272, 491, 747, 483, 554, 729, 189, 965, 323, 528, 775, 823,\n",
       "       581, 602, 522, 989, 182, 613, 195, 184, 647, 208, 750, 426, 294,\n",
       "       470, 709, 896, 156, 309, 393, 527, 194, 855, 211, 349, 518, 891,\n",
       "       900, 248,  49])"
      ]
     },
     "execution_count": 32,
     "metadata": {},
     "output_type": "execute_result"
    }
   ],
   "source": [
    "arr = np.random.randint(1,999,250)\n",
    "arr \n",
    "# even = 1 , odd =  0  "
   ]
  },
  {
   "cell_type": "code",
   "execution_count": 33,
   "id": "9de963ce-fea9-4f0a-9e96-fc4eb1ecbb62",
   "metadata": {},
   "outputs": [
    {
     "ename": "NameError",
     "evalue": "name 'even' is not defined",
     "output_type": "error",
     "traceback": [
      "\u001b[1;31m---------------------------------------------------------------------------\u001b[0m",
      "\u001b[1;31mNameError\u001b[0m                                 Traceback (most recent call last)",
      "Cell \u001b[1;32mIn[33], line 1\u001b[0m\n\u001b[1;32m----> 1\u001b[0m \u001b[43meven\u001b[49m  \u001b[38;5;241m==\u001b[39m \u001b[38;5;241m1\u001b[39m , odd \u001b[38;5;241m==\u001b[39m  \u001b[38;5;241m0\u001b[39m \n",
      "\u001b[1;31mNameError\u001b[0m: name 'even' is not defined"
     ]
    }
   ],
   "source": [
    "even  == 1 , odd ==  0 "
   ]
  },
  {
   "cell_type": "code",
   "execution_count": null,
   "id": "c39f8680-8e79-46f3-8a39-b6771cb57599",
   "metadata": {},
   "outputs": [],
   "source": [
    "temp_label = [] \n",
    "for i in labels: \n",
    "    if  i == 'spam':\n",
    "        temp_label.append(1)\n",
    "    else: \n",
    "        temp_label.append(0)\n",
    " \n",
    "# list comprehension "
   ]
  },
  {
   "cell_type": "code",
   "execution_count": null,
   "id": "a1f97370-0288-45e4-9dbe-a0e60f27de61",
   "metadata": {},
   "outputs": [],
   "source": [
    "lst = [2,4,6,8,9,5,6,4]\n",
    "square = []\n",
    "for item in lst: \n",
    "    square.append(item ** 2)\n",
    "    \n",
    "print(square)"
   ]
  },
  {
   "cell_type": "code",
   "execution_count": null,
   "id": "764503a7-c366-4996-b2d5-69d7948fad0d",
   "metadata": {},
   "outputs": [],
   "source": [
    "[item ** 2  for item in lst]"
   ]
  },
  {
   "cell_type": "code",
   "execution_count": null,
   "id": "f9bc054d-ace5-4417-95b2-9bfcfc793eeb",
   "metadata": {},
   "outputs": [],
   "source": [
    "# list comprehension \n",
    "# labels = [1 if item ==\"spam\" else 0 for item in labels]\n"
   ]
  }
 ],
 "metadata": {
  "kernelspec": {
   "display_name": "Python 3 (ipykernel)",
   "language": "python",
   "name": "python3"
  },
  "language_info": {
   "codemirror_mode": {
    "name": "ipython",
    "version": 3
   },
   "file_extension": ".py",
   "mimetype": "text/x-python",
   "name": "python",
   "nbconvert_exporter": "python",
   "pygments_lexer": "ipython3",
   "version": "3.11.5"
  }
 },
 "nbformat": 4,
 "nbformat_minor": 5
}
