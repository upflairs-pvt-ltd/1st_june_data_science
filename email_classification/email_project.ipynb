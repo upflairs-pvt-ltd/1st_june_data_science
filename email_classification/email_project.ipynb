{
 "cells": [
  {
   "cell_type": "code",
   "execution_count": 86,
   "id": "829f5dbb-94bb-4cfa-81d4-998980ecb9ce",
   "metadata": {},
   "outputs": [],
   "source": [
    "import pandas as pd \n",
    "import numpy as np \n",
    "from sklearn.feature_extraction.text import CountVectorizer \n",
    "from sklearn.feature_extraction.text import TfidfVectorizer"
   ]
  },
  {
   "cell_type": "code",
   "execution_count": 2,
   "id": "7db79e51-2dcc-45ad-ba81-a418422f4092",
   "metadata": {},
   "outputs": [],
   "source": [
    "# reading data from text file \n",
    "with open('SMSSpamCollection.txt','r') as file: \n",
    "    data = file.read()"
   ]
  },
  {
   "cell_type": "code",
   "execution_count": 3,
   "id": "6b5cc76b-0dee-4c3a-b424-fbbc3895af54",
   "metadata": {},
   "outputs": [],
   "source": [
    "temp = data.split('\\n')"
   ]
  },
  {
   "cell_type": "code",
   "execution_count": 4,
   "id": "7ce564d4-a8bd-42ee-bdd6-a3f8685799c0",
   "metadata": {},
   "outputs": [
    {
     "name": "stdout",
     "output_type": "stream",
     "text": [
      "No. of emails :  5575\n"
     ]
    }
   ],
   "source": [
    "print(\"No. of emails : \",len(temp) )"
   ]
  },
  {
   "cell_type": "code",
   "execution_count": 5,
   "id": "23d9a4f0-9538-4075-bba2-98278bc687dd",
   "metadata": {},
   "outputs": [],
   "source": [
    "x = [] \n",
    "y = [] \n",
    "for email_with_label in temp: \n",
    "    temp_emails = email_with_label.split('\\t') \n",
    "    if len(temp_emails) == 2 : \n",
    "        x.append(temp_emails[1])\n",
    "        y.append(temp_emails[0])\n",
    "        \n",
    "    "
   ]
  },
  {
   "cell_type": "code",
   "execution_count": 6,
   "id": "e7ce1c60-5b65-48c5-9043-f8bc4b667b9c",
   "metadata": {},
   "outputs": [
    {
     "data": {
      "text/plain": [
       "(5574, 5574)"
      ]
     },
     "execution_count": 6,
     "metadata": {},
     "output_type": "execute_result"
    }
   ],
   "source": [
    "len(x),len(y)"
   ]
  },
  {
   "cell_type": "code",
   "execution_count": 7,
   "id": "6de80340-fc43-41b9-b1b3-2748a585b235",
   "metadata": {},
   "outputs": [
    {
     "data": {
      "text/html": [
       "<div>\n",
       "<style scoped>\n",
       "    .dataframe tbody tr th:only-of-type {\n",
       "        vertical-align: middle;\n",
       "    }\n",
       "\n",
       "    .dataframe tbody tr th {\n",
       "        vertical-align: top;\n",
       "    }\n",
       "\n",
       "    .dataframe thead th {\n",
       "        text-align: right;\n",
       "    }\n",
       "</style>\n",
       "<table border=\"1\" class=\"dataframe\">\n",
       "  <thead>\n",
       "    <tr style=\"text-align: right;\">\n",
       "      <th></th>\n",
       "      <th>email_message</th>\n",
       "      <th>label</th>\n",
       "    </tr>\n",
       "  </thead>\n",
       "  <tbody>\n",
       "    <tr>\n",
       "      <th>0</th>\n",
       "      <td>Go until jurong point, crazy.. Available only ...</td>\n",
       "      <td>ham</td>\n",
       "    </tr>\n",
       "    <tr>\n",
       "      <th>1</th>\n",
       "      <td>Ok lar... Joking wif u oni...</td>\n",
       "      <td>ham</td>\n",
       "    </tr>\n",
       "    <tr>\n",
       "      <th>2</th>\n",
       "      <td>Free entry in 2 a wkly comp to win FA Cup fina...</td>\n",
       "      <td>spam</td>\n",
       "    </tr>\n",
       "    <tr>\n",
       "      <th>3</th>\n",
       "      <td>U dun say so early hor... U c already then say...</td>\n",
       "      <td>ham</td>\n",
       "    </tr>\n",
       "    <tr>\n",
       "      <th>4</th>\n",
       "      <td>Nah I don't think he goes to usf, he lives aro...</td>\n",
       "      <td>ham</td>\n",
       "    </tr>\n",
       "  </tbody>\n",
       "</table>\n",
       "</div>"
      ],
      "text/plain": [
       "                                       email_message label\n",
       "0  Go until jurong point, crazy.. Available only ...   ham\n",
       "1                      Ok lar... Joking wif u oni...   ham\n",
       "2  Free entry in 2 a wkly comp to win FA Cup fina...  spam\n",
       "3  U dun say so early hor... U c already then say...   ham\n",
       "4  Nah I don't think he goes to usf, he lives aro...   ham"
      ]
     },
     "execution_count": 7,
     "metadata": {},
     "output_type": "execute_result"
    }
   ],
   "source": [
    "# dataframe\n",
    "dt = {'email_message':x,\"label\":y}\n",
    "email_data = pd.DataFrame(dt)\n",
    "email_data.head()"
   ]
  },
  {
   "cell_type": "code",
   "execution_count": 12,
   "id": "d1e1eeb0-8163-4617-b387-56404a883de7",
   "metadata": {},
   "outputs": [],
   "source": [
    "# #alternative way \n",
    "# df2 = pd.read_table('SMSSpamCollection.txt',header=None)\n",
    "# df2.columns = ['label','email_message']\n",
    "# df2.head()\n"
   ]
  },
  {
   "cell_type": "code",
   "execution_count": 14,
   "id": "543bca2d-587d-422c-b667-530b6dc361b0",
   "metadata": {},
   "outputs": [
    {
     "data": {
      "text/plain": [
       "label\n",
       "ham     4827\n",
       "spam     747\n",
       "Name: count, dtype: int64"
      ]
     },
     "execution_count": 14,
     "metadata": {},
     "output_type": "execute_result"
    }
   ],
   "source": [
    "email_data['label'].value_counts()"
   ]
  },
  {
   "cell_type": "code",
   "execution_count": 15,
   "id": "ace44c9d-56df-4842-a72d-ce04dc0c2146",
   "metadata": {},
   "outputs": [],
   "source": [
    "spam = email_data[email_data['label']=='spam']\n",
    "ham = email_data[email_data['label']=='ham']"
   ]
  },
  {
   "cell_type": "code",
   "execution_count": 16,
   "id": "f67d862a-59d0-4569-a531-1278a7092c1f",
   "metadata": {},
   "outputs": [
    {
     "data": {
      "text/plain": [
       "(747, 2)"
      ]
     },
     "execution_count": 16,
     "metadata": {},
     "output_type": "execute_result"
    }
   ],
   "source": [
    "spam.shape "
   ]
  },
  {
   "cell_type": "code",
   "execution_count": 17,
   "id": "f313352c-3e78-40ea-a3cf-d833fbff50ab",
   "metadata": {},
   "outputs": [
    {
     "data": {
      "text/plain": [
       "(4827, 2)"
      ]
     },
     "execution_count": 17,
     "metadata": {},
     "output_type": "execute_result"
    }
   ],
   "source": [
    "ham.shape "
   ]
  },
  {
   "cell_type": "code",
   "execution_count": 20,
   "id": "5c810530-32c7-4cd3-8e4e-15c86c99c8ac",
   "metadata": {},
   "outputs": [],
   "source": [
    "ham = ham.sample(1000)   ## randomly 100 records "
   ]
  },
  {
   "cell_type": "code",
   "execution_count": 21,
   "id": "5185eb50-440d-4100-bd1d-a955d606c3cf",
   "metadata": {},
   "outputs": [
    {
     "data": {
      "text/plain": [
       "((747, 2), (1000, 2))"
      ]
     },
     "execution_count": 21,
     "metadata": {},
     "output_type": "execute_result"
    }
   ],
   "source": [
    "spam.shape , ham.shape "
   ]
  },
  {
   "cell_type": "code",
   "execution_count": 22,
   "id": "a08de03b-6515-484d-82ca-84e924ab3436",
   "metadata": {},
   "outputs": [],
   "source": [
    "final_df=pd.concat([ham,spam],axis=0)"
   ]
  },
  {
   "cell_type": "code",
   "execution_count": 23,
   "id": "59d693ed-b6b9-42dd-ba5d-3fbcb78536e2",
   "metadata": {},
   "outputs": [
    {
     "data": {
      "text/html": [
       "<div>\n",
       "<style scoped>\n",
       "    .dataframe tbody tr th:only-of-type {\n",
       "        vertical-align: middle;\n",
       "    }\n",
       "\n",
       "    .dataframe tbody tr th {\n",
       "        vertical-align: top;\n",
       "    }\n",
       "\n",
       "    .dataframe thead th {\n",
       "        text-align: right;\n",
       "    }\n",
       "</style>\n",
       "<table border=\"1\" class=\"dataframe\">\n",
       "  <thead>\n",
       "    <tr style=\"text-align: right;\">\n",
       "      <th></th>\n",
       "      <th>email_message</th>\n",
       "      <th>label</th>\n",
       "    </tr>\n",
       "  </thead>\n",
       "  <tbody>\n",
       "    <tr>\n",
       "      <th>4987</th>\n",
       "      <td>That's y u haf 2 keep me busy...</td>\n",
       "      <td>ham</td>\n",
       "    </tr>\n",
       "    <tr>\n",
       "      <th>4266</th>\n",
       "      <td>&amp;lt;DECIMAL&amp;gt; m but its not a common car he...</td>\n",
       "      <td>ham</td>\n",
       "    </tr>\n",
       "    <tr>\n",
       "      <th>4000</th>\n",
       "      <td>K...k...when will you give treat?</td>\n",
       "      <td>ham</td>\n",
       "    </tr>\n",
       "    <tr>\n",
       "      <th>1499</th>\n",
       "      <td>Time n Smile r the two crucial things in our l...</td>\n",
       "      <td>ham</td>\n",
       "    </tr>\n",
       "    <tr>\n",
       "      <th>3592</th>\n",
       "      <td>How much would it cost to hire a hitman</td>\n",
       "      <td>ham</td>\n",
       "    </tr>\n",
       "  </tbody>\n",
       "</table>\n",
       "</div>"
      ],
      "text/plain": [
       "                                          email_message label\n",
       "4987                   That's y u haf 2 keep me busy...   ham\n",
       "4266   &lt;DECIMAL&gt; m but its not a common car he...   ham\n",
       "4000                  K...k...when will you give treat?   ham\n",
       "1499  Time n Smile r the two crucial things in our l...   ham\n",
       "3592            How much would it cost to hire a hitman   ham"
      ]
     },
     "execution_count": 23,
     "metadata": {},
     "output_type": "execute_result"
    }
   ],
   "source": [
    "final_df.head()"
   ]
  },
  {
   "cell_type": "code",
   "execution_count": 24,
   "id": "b19ec27a-ae87-4ccb-8533-3be82eede044",
   "metadata": {},
   "outputs": [
    {
     "data": {
      "text/plain": [
       "(1747, 2)"
      ]
     },
     "execution_count": 24,
     "metadata": {},
     "output_type": "execute_result"
    }
   ],
   "source": [
    "final_df.shape"
   ]
  },
  {
   "cell_type": "code",
   "execution_count": 27,
   "id": "33de5c4a-6175-4483-93d3-f4aba9d25214",
   "metadata": {},
   "outputs": [],
   "source": [
    "### Text cleaning  \n",
    "import re   # regular expression "
   ]
  },
  {
   "cell_type": "code",
   "execution_count": 39,
   "id": "61f911eb-4080-4551-a1bc-42d2a39bac60",
   "metadata": {},
   "outputs": [],
   "source": [
    "# index reassigning \n",
    "final_df.reset_index(drop=True,inplace=True)"
   ]
  },
  {
   "cell_type": "code",
   "execution_count": 44,
   "id": "864e0de8-a22e-4b79-b929-e917c3d16e61",
   "metadata": {},
   "outputs": [
    {
     "data": {
      "text/plain": [
       "\"Appt is at &lt;TIME&gt; am. Not my fault u don't listen. I told u twice\""
      ]
     },
     "execution_count": 44,
     "metadata": {},
     "output_type": "execute_result"
    }
   ],
   "source": [
    "final_df['email_message'][25]\n",
    "# a-z , A-z "
   ]
  },
  {
   "cell_type": "code",
   "execution_count": 49,
   "id": "ebce5d5a-ffad-4b90-873a-8ad4779fe4ba",
   "metadata": {},
   "outputs": [
    {
     "name": "stderr",
     "output_type": "stream",
     "text": [
      "C:\\Users\\Ranjit\\AppData\\Local\\Temp\\ipykernel_1936\\488455171.py:2: FutureWarning: ChainedAssignmentError: behaviour will change in pandas 3.0!\n",
      "You are setting values through chained assignment. Currently this works in certain cases, but when using Copy-on-Write (which will become the default behaviour in pandas 3.0) this will never work to update the original DataFrame or Series, because the intermediate object on which we are setting values will behave as a copy.\n",
      "A typical example is when you are setting values in a column of a DataFrame, like:\n",
      "\n",
      "df[\"col\"][row_indexer] = value\n",
      "\n",
      "Use `df.loc[row_indexer, \"col\"] = values` instead, to perform the assignment in a single step and ensure this keeps updating the original `df`.\n",
      "\n",
      "See the caveats in the documentation: https://pandas.pydata.org/pandas-docs/stable/user_guide/indexing.html#returning-a-view-versus-a-copy\n",
      "\n",
      "  final_df['email_message'][i] = re.sub('[^a-zA-Z ]','',final_df['email_message'][i]).lower()\n"
     ]
    }
   ],
   "source": [
    "for i in range(len(final_df)): \n",
    "    final_df['email_message'][i] = re.sub('[^a-zA-Z ]','',final_df['email_message'][i]).lower()\n"
   ]
  },
  {
   "cell_type": "code",
   "execution_count": 50,
   "id": "62fa2402-300d-437e-85ab-46fa5c023bba",
   "metadata": {},
   "outputs": [
    {
     "data": {
      "text/html": [
       "<div>\n",
       "<style scoped>\n",
       "    .dataframe tbody tr th:only-of-type {\n",
       "        vertical-align: middle;\n",
       "    }\n",
       "\n",
       "    .dataframe tbody tr th {\n",
       "        vertical-align: top;\n",
       "    }\n",
       "\n",
       "    .dataframe thead th {\n",
       "        text-align: right;\n",
       "    }\n",
       "</style>\n",
       "<table border=\"1\" class=\"dataframe\">\n",
       "  <thead>\n",
       "    <tr style=\"text-align: right;\">\n",
       "      <th></th>\n",
       "      <th>email_message</th>\n",
       "      <th>label</th>\n",
       "    </tr>\n",
       "  </thead>\n",
       "  <tbody>\n",
       "    <tr>\n",
       "      <th>0</th>\n",
       "      <td>thats y u haf  keep me busy</td>\n",
       "      <td>ham</td>\n",
       "    </tr>\n",
       "    <tr>\n",
       "      <th>1</th>\n",
       "      <td>ltdecimalgt m but its not a common car here s...</td>\n",
       "      <td>ham</td>\n",
       "    </tr>\n",
       "    <tr>\n",
       "      <th>2</th>\n",
       "      <td>kkwhen will you give treat</td>\n",
       "      <td>ham</td>\n",
       "    </tr>\n",
       "    <tr>\n",
       "      <th>3</th>\n",
       "      <td>time n smile r the two crucial things in our l...</td>\n",
       "      <td>ham</td>\n",
       "    </tr>\n",
       "    <tr>\n",
       "      <th>4</th>\n",
       "      <td>how much would it cost to hire a hitman</td>\n",
       "      <td>ham</td>\n",
       "    </tr>\n",
       "  </tbody>\n",
       "</table>\n",
       "</div>"
      ],
      "text/plain": [
       "                                       email_message label\n",
       "0                        thats y u haf  keep me busy   ham\n",
       "1   ltdecimalgt m but its not a common car here s...   ham\n",
       "2                         kkwhen will you give treat   ham\n",
       "3  time n smile r the two crucial things in our l...   ham\n",
       "4            how much would it cost to hire a hitman   ham"
      ]
     },
     "execution_count": 50,
     "metadata": {},
     "output_type": "execute_result"
    }
   ],
   "source": [
    "final_df.head()"
   ]
  },
  {
   "cell_type": "code",
   "execution_count": 64,
   "id": "2743d033-3f82-447f-81f6-fd8c1daa79ef",
   "metadata": {},
   "outputs": [],
   "source": [
    "## alphabet -->  label map() \n",
    "# spam = 1 \n",
    "# ham = 0  \n",
    "\n",
    "labels = list(final_df['label'])\n",
    "temp_labels = [1 if item ==\"spam\" else 0 for item in labels]\n",
    "final_df['label'] = temp_labels\n"
   ]
  },
  {
   "cell_type": "code",
   "execution_count": 65,
   "id": "a4f9bf5e-34ef-4333-b916-3029d1b2fac6",
   "metadata": {},
   "outputs": [
    {
     "data": {
      "text/html": [
       "<div>\n",
       "<style scoped>\n",
       "    .dataframe tbody tr th:only-of-type {\n",
       "        vertical-align: middle;\n",
       "    }\n",
       "\n",
       "    .dataframe tbody tr th {\n",
       "        vertical-align: top;\n",
       "    }\n",
       "\n",
       "    .dataframe thead th {\n",
       "        text-align: right;\n",
       "    }\n",
       "</style>\n",
       "<table border=\"1\" class=\"dataframe\">\n",
       "  <thead>\n",
       "    <tr style=\"text-align: right;\">\n",
       "      <th></th>\n",
       "      <th>email_message</th>\n",
       "      <th>label</th>\n",
       "    </tr>\n",
       "  </thead>\n",
       "  <tbody>\n",
       "    <tr>\n",
       "      <th>0</th>\n",
       "      <td>thats y u haf  keep me busy</td>\n",
       "      <td>0</td>\n",
       "    </tr>\n",
       "    <tr>\n",
       "      <th>1</th>\n",
       "      <td>ltdecimalgt m but its not a common car here s...</td>\n",
       "      <td>0</td>\n",
       "    </tr>\n",
       "    <tr>\n",
       "      <th>2</th>\n",
       "      <td>kkwhen will you give treat</td>\n",
       "      <td>0</td>\n",
       "    </tr>\n",
       "    <tr>\n",
       "      <th>3</th>\n",
       "      <td>time n smile r the two crucial things in our l...</td>\n",
       "      <td>0</td>\n",
       "    </tr>\n",
       "    <tr>\n",
       "      <th>4</th>\n",
       "      <td>how much would it cost to hire a hitman</td>\n",
       "      <td>0</td>\n",
       "    </tr>\n",
       "  </tbody>\n",
       "</table>\n",
       "</div>"
      ],
      "text/plain": [
       "                                       email_message  label\n",
       "0                        thats y u haf  keep me busy      0\n",
       "1   ltdecimalgt m but its not a common car here s...      0\n",
       "2                         kkwhen will you give treat      0\n",
       "3  time n smile r the two crucial things in our l...      0\n",
       "4            how much would it cost to hire a hitman      0"
      ]
     },
     "execution_count": 65,
     "metadata": {},
     "output_type": "execute_result"
    }
   ],
   "source": [
    "final_df.head()"
   ]
  },
  {
   "cell_type": "markdown",
   "id": "fba754f7-64f5-4c80-890c-4496f4f6bff8",
   "metadata": {},
   "source": [
    "<!-- ## independent and dependent x and y variable   -->"
   ]
  },
  {
   "cell_type": "code",
   "execution_count": 79,
   "id": "3f612bdd-1c61-4f54-93fa-38a53d50155a",
   "metadata": {},
   "outputs": [],
   "source": [
    "x = final_df['email_message']\n",
    "y = final_df['label']"
   ]
  },
  {
   "cell_type": "code",
   "execution_count": 83,
   "id": "2bdee382-9e12-4e23-a4a8-cb76aa12e44c",
   "metadata": {},
   "outputs": [],
   "source": [
    "x = x.values"
   ]
  },
  {
   "cell_type": "code",
   "execution_count": 88,
   "id": "3076a323-dbe4-4fd2-be79-8bc7470d3e38",
   "metadata": {},
   "outputs": [],
   "source": [
    " bow_obj = CountVectorizer(max_features=1500,stop_words='english')"
   ]
  },
  {
   "cell_type": "code",
   "execution_count": 89,
   "id": "1c750c9e-a33a-4104-87e6-dd84388b5992",
   "metadata": {},
   "outputs": [],
   "source": [
    "X =  bow_obj.fit_transform(x)"
   ]
  },
  {
   "cell_type": "code",
   "execution_count": 93,
   "id": "9da91071-953b-4a67-9171-a0c6c806a041",
   "metadata": {},
   "outputs": [
    {
     "data": {
      "text/plain": [
       "<1747x1500 sparse matrix of type '<class 'numpy.int64'>'\n",
       "\twith 12586 stored elements in Compressed Sparse Row format>"
      ]
     },
     "execution_count": 93,
     "metadata": {},
     "output_type": "execute_result"
    }
   ],
   "source": [
    "X"
   ]
  },
  {
   "cell_type": "code",
   "execution_count": 91,
   "id": "bf9c26e4-7916-43f7-8056-207eb76f5de1",
   "metadata": {},
   "outputs": [
    {
     "data": {
      "text/plain": [
       "array([[0, 0, 0, ..., 0, 0, 0],\n",
       "       [0, 0, 0, ..., 0, 0, 0],\n",
       "       [0, 0, 0, ..., 0, 0, 0],\n",
       "       ...,\n",
       "       [0, 0, 0, ..., 0, 0, 0],\n",
       "       [0, 0, 0, ..., 0, 0, 0],\n",
       "       [0, 0, 0, ..., 0, 0, 0]], dtype=int64)"
      ]
     },
     "execution_count": 91,
     "metadata": {},
     "output_type": "execute_result"
    }
   ],
   "source": [
    "X.toarray()"
   ]
  },
  {
   "cell_type": "code",
   "execution_count": null,
   "id": "1f383453-1079-4402-ba9a-8305f2da4949",
   "metadata": {},
   "outputs": [],
   "source": []
  },
  {
   "cell_type": "code",
   "execution_count": null,
   "id": "f2efd032-9ade-4003-8a10-a123fe07661d",
   "metadata": {},
   "outputs": [],
   "source": []
  },
  {
   "cell_type": "code",
   "execution_count": null,
   "id": "44312d20-a94c-41f9-9014-f8befc870231",
   "metadata": {},
   "outputs": [],
   "source": []
  },
  {
   "cell_type": "code",
   "execution_count": null,
   "id": "5f5f4666-aeee-4c87-8afe-adf2f1df00f4",
   "metadata": {},
   "outputs": [],
   "source": []
  },
  {
   "cell_type": "markdown",
   "id": "92aecf8a-3098-4150-9227-17d54d7ab7e5",
   "metadata": {},
   "source": [
    "### PRectise "
   ]
  },
  {
   "cell_type": "code",
   "execution_count": 71,
   "id": "edf5d01d-74f9-4cb0-ab89-ecfe9a3d3838",
   "metadata": {},
   "outputs": [],
   "source": [
    "import numpy as np "
   ]
  },
  {
   "cell_type": "code",
   "execution_count": 72,
   "id": "9580ee04-dbd9-4f8f-8b70-e3ef4141cf0c",
   "metadata": {},
   "outputs": [
    {
     "data": {
      "text/plain": [
       "array([920, 671,  32, 140, 440,  76, 216, 511, 107, 121, 254, 475, 781,\n",
       "       597, 191, 867, 349, 783, 961,  58, 440, 398, 407, 793, 428, 198,\n",
       "       508, 481, 175, 298, 422, 151, 962, 978, 171, 847, 970, 869, 183,\n",
       "       945, 814, 659, 874, 309, 181, 124, 831,  94, 520,  91, 176, 367,\n",
       "       355, 313, 762, 257,   1, 224, 516, 621, 861, 403, 871, 518, 856,\n",
       "       842, 846, 179, 816, 208, 637,  38, 578, 270, 697,  35,  54, 969,\n",
       "       769, 415, 606, 265, 419, 239, 710, 559, 777, 126, 534,  93,  50,\n",
       "       112, 965, 890,  86, 572,  33, 924, 118, 895, 318, 115, 847, 535,\n",
       "       147, 341,  25, 649, 590, 527, 789, 747, 920,  75, 975, 205, 520,\n",
       "       984, 217, 279, 806, 264, 409, 117, 453, 719, 469,  48,  45, 359,\n",
       "       698, 420, 992, 937, 579,  85, 364,  71, 124,  45, 294, 854, 963,\n",
       "       953, 724, 127, 528, 228, 720, 273, 559, 583, 555, 926, 104, 586,\n",
       "       135, 504,  20, 900, 880, 663, 345, 358, 889, 537, 965, 911, 766,\n",
       "       627, 799, 387, 120, 936, 375, 993, 335, 882,  11, 112, 926, 289,\n",
       "       586,  73, 429, 277, 932, 804, 251, 375, 744, 255, 242, 278, 818,\n",
       "       449, 855, 135, 246, 463, 218,  55, 812, 912, 988, 503, 788, 948,\n",
       "       502, 804, 180, 323, 797, 891, 797,  49, 524, 181, 265, 997, 853,\n",
       "       457, 476, 380, 759,   2, 622,  42, 625, 188, 303,  81, 601, 417,\n",
       "       584, 157, 270, 313, 128, 336, 170, 252, 138, 824, 404, 500, 341,\n",
       "       860, 806, 216])"
      ]
     },
     "execution_count": 72,
     "metadata": {},
     "output_type": "execute_result"
    }
   ],
   "source": [
    "arr = np.random.randint(1,999,250)\n",
    "arr \n",
    "# even = 1 , odd =  0  "
   ]
  },
  {
   "cell_type": "code",
   "execution_count": null,
   "id": "9de963ce-fea9-4f0a-9e96-fc4eb1ecbb62",
   "metadata": {},
   "outputs": [],
   "source": [
    "even  == 1 , odd ==  0 "
   ]
  },
  {
   "cell_type": "code",
   "execution_count": 57,
   "id": "c39f8680-8e79-46f3-8a39-b6771cb57599",
   "metadata": {},
   "outputs": [],
   "source": [
    "temp_label = [] \n",
    "for i in labels: \n",
    "    if  i == 'spam':\n",
    "        temp_label.append(1)\n",
    "    else: \n",
    "        temp_label.append(0)\n",
    " \n",
    "# list comprehension "
   ]
  },
  {
   "cell_type": "code",
   "execution_count": 58,
   "id": "a1f97370-0288-45e4-9dbe-a0e60f27de61",
   "metadata": {},
   "outputs": [
    {
     "name": "stdout",
     "output_type": "stream",
     "text": [
      "[4, 16, 36, 64, 81, 25, 36, 16]\n"
     ]
    }
   ],
   "source": [
    "lst = [2,4,6,8,9,5,6,4]\n",
    "square = []\n",
    "for item in lst: \n",
    "    square.append(item ** 2)\n",
    "    \n",
    "print(square)"
   ]
  },
  {
   "cell_type": "code",
   "execution_count": 62,
   "id": "764503a7-c366-4996-b2d5-69d7948fad0d",
   "metadata": {},
   "outputs": [
    {
     "data": {
      "text/plain": [
       "[4, 16, 36, 64, 81, 25, 36, 16]"
      ]
     },
     "execution_count": 62,
     "metadata": {},
     "output_type": "execute_result"
    }
   ],
   "source": [
    "[item ** 2  for item in lst]"
   ]
  },
  {
   "cell_type": "code",
   "execution_count": 63,
   "id": "f9bc054d-ace5-4417-95b2-9bfcfc793eeb",
   "metadata": {},
   "outputs": [],
   "source": [
    "# list comprehension \n",
    "# labels = [1 if item ==\"spam\" else 0 for item in labels]\n"
   ]
  }
 ],
 "metadata": {
  "kernelspec": {
   "display_name": "Python 3 (ipykernel)",
   "language": "python",
   "name": "python3"
  },
  "language_info": {
   "codemirror_mode": {
    "name": "ipython",
    "version": 3
   },
   "file_extension": ".py",
   "mimetype": "text/x-python",
   "name": "python",
   "nbconvert_exporter": "python",
   "pygments_lexer": "ipython3",
   "version": "3.11.5"
  }
 },
 "nbformat": 4,
 "nbformat_minor": 5
}
