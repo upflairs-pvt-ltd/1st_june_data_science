{
 "cells": [
  {
   "cell_type": "markdown",
   "metadata": {},
   "source": [
    "### Encapsulation "
   ]
  },
  {
   "cell_type": "code",
   "execution_count": 32,
   "metadata": {},
   "outputs": [],
   "source": [
    "class Manager:\n",
    "    def __init__(self):\n",
    "        #<<<<<<, public variable  >>>>>>>>\n",
    "        # self.manager_name = \"Dharmpal singh\"\n",
    "        # self.manager_id = \"hello@gmail.com\"\n",
    "        # self.manager_pass = \"kumar@786\"\n",
    "\n",
    "        # <<<<, PROTECTED VARIABLES >>>>>>>>\n",
    "        # self._manager_name = \"Dharmpal singh\"\n",
    "        # self._manager_id = \"hello@gmail.com\"\n",
    "        # self._manager_pass = \"kumar@786\"\n",
    "\n",
    "        ### PRIVATE VARIABLE\n",
    "        self.__manager_name = \"Dharmpal singh\"\n",
    "        self.__manager_id = \"hello@gmail.com\"\n",
    "        self.__manager_pass = \"kumar@786\"\n",
    "\n",
    "        # public variable \n",
    "        self.employee_name = \"vikash kumawat\"\n",
    "        self.employee_id = \"vikash@gmail.com\"\n",
    "        self.employee_pass = \"kumawat@123\"\n",
    "        print('Manager constructor executed !')\n",
    "\n",
    "    def Manager_hii(self):\n",
    "        print(self.manager_name)\n",
    "        print(self.manager_id)\n",
    "        print(self.manager_pass)\n",
    "\n",
    "class Employee(Manager):\n",
    "\n",
    "    def Employee_hii():\n",
    "        pass \n"
   ]
  },
  {
   "cell_type": "code",
   "execution_count": 33,
   "metadata": {},
   "outputs": [
    {
     "name": "stdout",
     "output_type": "stream",
     "text": [
      "Manager constructor executed !\n",
      "Manager constructor executed !\n"
     ]
    }
   ],
   "source": [
    "emp_obj = Employee()\n",
    "mngr_obj = Manager()"
   ]
  },
  {
   "cell_type": "code",
   "execution_count": 10,
   "metadata": {},
   "outputs": [
    {
     "data": {
      "text/plain": [
       "'kumar@786'"
      ]
     },
     "execution_count": 10,
     "metadata": {},
     "output_type": "execute_result"
    }
   ],
   "source": [
    "emp_obj.manager_pass"
   ]
  },
  {
   "cell_type": "code",
   "execution_count": 11,
   "metadata": {},
   "outputs": [
    {
     "data": {
      "text/plain": [
       "{'manager_name': 'Dharmpal singh',\n",
       " 'manager_id': 'hello@gmail.com',\n",
       " 'manager_pass': 'kumar@786',\n",
       " 'employee_name': 'vikash kumawat',\n",
       " 'employee_id': 'vikash@gmail.com',\n",
       " 'employee_pass': 'kumawat@123'}"
      ]
     },
     "execution_count": 11,
     "metadata": {},
     "output_type": "execute_result"
    }
   ],
   "source": [
    "emp_obj.__dict__"
   ]
  },
  {
   "cell_type": "code",
   "execution_count": 18,
   "metadata": {},
   "outputs": [
    {
     "data": {
      "text/plain": [
       "'hello@gmail.com'"
      ]
     },
     "execution_count": 18,
     "metadata": {},
     "output_type": "execute_result"
    }
   ],
   "source": [
    "## PROTECTED ACCESS \n",
    "mngr_obj._manager_id  #outside the class "
   ]
  },
  {
   "cell_type": "code",
   "execution_count": 20,
   "metadata": {},
   "outputs": [
    {
     "data": {
      "text/plain": [
       "'kumar@786'"
      ]
     },
     "execution_count": 20,
     "metadata": {},
     "output_type": "execute_result"
    }
   ],
   "source": [
    "emp_obj._manager_pass"
   ]
  },
  {
   "cell_type": "code",
   "execution_count": 25,
   "metadata": {},
   "outputs": [
    {
     "ename": "AttributeError",
     "evalue": "'Manager' object has no attribute '__manager_name'",
     "output_type": "error",
     "traceback": [
      "\u001b[1;31m---------------------------------------------------------------------------\u001b[0m",
      "\u001b[1;31mAttributeError\u001b[0m                            Traceback (most recent call last)",
      "Cell \u001b[1;32mIn[25], line 2\u001b[0m\n\u001b[0;32m      1\u001b[0m \u001b[38;5;66;03m# PRIVATE VARIABLE ACCESSING \u001b[39;00m\n\u001b[1;32m----> 2\u001b[0m \u001b[43mmngr_obj\u001b[49m\u001b[38;5;241;43m.\u001b[39;49m\u001b[43m__manager_name\u001b[49m\n",
      "\u001b[1;31mAttributeError\u001b[0m: 'Manager' object has no attribute '__manager_name'"
     ]
    }
   ],
   "source": [
    "# PRIVATE VARIABLE ACCESSING \n",
    "mngr_obj.__manager_name"
   ]
  },
  {
   "cell_type": "code",
   "execution_count": 31,
   "metadata": {},
   "outputs": [
    {
     "ename": "AttributeError",
     "evalue": "'Employee' object has no attribute '__manager_pass'",
     "output_type": "error",
     "traceback": [
      "\u001b[1;31m---------------------------------------------------------------------------\u001b[0m",
      "\u001b[1;31mAttributeError\u001b[0m                            Traceback (most recent call last)",
      "Cell \u001b[1;32mIn[31], line 1\u001b[0m\n\u001b[1;32m----> 1\u001b[0m \u001b[43memp_obj\u001b[49m\u001b[38;5;241;43m.\u001b[39;49m\u001b[43m__manager_pass\u001b[49m\n",
      "\u001b[1;31mAttributeError\u001b[0m: 'Employee' object has no attribute '__manager_pass'"
     ]
    }
   ],
   "source": [
    "emp_obj.__manager_pass"
   ]
  },
  {
   "cell_type": "code",
   "execution_count": 34,
   "metadata": {},
   "outputs": [
    {
     "data": {
      "text/plain": [
       "{'_Manager__manager_name': 'Dharmpal singh',\n",
       " '_Manager__manager_id': 'hello@gmail.com',\n",
       " '_Manager__manager_pass': 'kumar@786',\n",
       " 'employee_name': 'vikash kumawat',\n",
       " 'employee_id': 'vikash@gmail.com',\n",
       " 'employee_pass': 'kumawat@123'}"
      ]
     },
     "execution_count": 34,
     "metadata": {},
     "output_type": "execute_result"
    }
   ],
   "source": [
    "mngr_obj.__dict__\n",
    "# Name mangling "
   ]
  },
  {
   "cell_type": "code",
   "execution_count": 36,
   "metadata": {},
   "outputs": [
    {
     "data": {
      "text/plain": [
       "'kumar@786'"
      ]
     },
     "execution_count": 36,
     "metadata": {},
     "output_type": "execute_result"
    }
   ],
   "source": [
    "mngr_obj._Manager__manager_pass"
   ]
  },
  {
   "cell_type": "code",
   "execution_count": 38,
   "metadata": {},
   "outputs": [
    {
     "data": {
      "text/plain": [
       "'kumar@786'"
      ]
     },
     "execution_count": 38,
     "metadata": {},
     "output_type": "execute_result"
    }
   ],
   "source": [
    "emp_obj._Manager__manager_pass"
   ]
  },
  {
   "cell_type": "code",
   "execution_count": null,
   "metadata": {},
   "outputs": [],
   "source": [
    "emp_obj."
   ]
  },
  {
   "cell_type": "code",
   "execution_count": 42,
   "metadata": {},
   "outputs": [
    {
     "data": {
      "text/plain": [
       "[__main__.Employee, __main__.Manager, object]"
      ]
     },
     "execution_count": 42,
     "metadata": {},
     "output_type": "execute_result"
    }
   ],
   "source": [
    "Employee.mro()  # method resultion order "
   ]
  },
  {
   "cell_type": "markdown",
   "metadata": {},
   "source": [
    "### Abstraction "
   ]
  },
  {
   "cell_type": "code",
   "execution_count": 41,
   "metadata": {},
   "outputs": [
    {
     "name": "stdout",
     "output_type": "stream",
     "text": [
      "10\n",
      "[10, 20, 50, 60, 40]\n"
     ]
    }
   ],
   "source": [
    "ls = [10,20,50,60,40]\n",
    "print(min(ls))\n",
    "print(ls)"
   ]
  },
  {
   "cell_type": "code",
   "execution_count": 52,
   "metadata": {},
   "outputs": [],
   "source": [
    "from abc import ABC,abstractmethod\n",
    "# abstract class \n",
    "class Manager(ABC):\n",
    "\n",
    "    @abstractmethod\n",
    "    def display(self):...\n",
    "         \n",
    "         "
   ]
  },
  {
   "cell_type": "code",
   "execution_count": 53,
   "metadata": {},
   "outputs": [
    {
     "ename": "TypeError",
     "evalue": "Can't instantiate abstract class Manager with abstract method display",
     "output_type": "error",
     "traceback": [
      "\u001b[1;31m---------------------------------------------------------------------------\u001b[0m",
      "\u001b[1;31mTypeError\u001b[0m                                 Traceback (most recent call last)",
      "Cell \u001b[1;32mIn[53], line 1\u001b[0m\n\u001b[1;32m----> 1\u001b[0m obj \u001b[38;5;241m=\u001b[39m \u001b[43mManager\u001b[49m\u001b[43m(\u001b[49m\u001b[43m)\u001b[49m\n",
      "\u001b[1;31mTypeError\u001b[0m: Can't instantiate abstract class Manager with abstract method display"
     ]
    }
   ],
   "source": [
    "obj = Manager()"
   ]
  },
  {
   "cell_type": "code",
   "execution_count": 54,
   "metadata": {},
   "outputs": [],
   "source": [
    "class Employee(Manager):\n",
    "    \n",
    "    def display(self):\n",
    "        print(\"hiii i am extracted method!\")"
   ]
  },
  {
   "cell_type": "code",
   "execution_count": 55,
   "metadata": {},
   "outputs": [],
   "source": [
    "emp_obj = Employee()"
   ]
  },
  {
   "cell_type": "code",
   "execution_count": 56,
   "metadata": {},
   "outputs": [
    {
     "name": "stdout",
     "output_type": "stream",
     "text": [
      "hiii i am extracted method!\n"
     ]
    }
   ],
   "source": [
    "emp_obj.display()"
   ]
  },
  {
   "cell_type": "code",
   "execution_count": null,
   "metadata": {},
   "outputs": [],
   "source": [
    "# polymorphism   === many forms\n",
    "greek language \n",
    "poly --> many \n",
    "morphism ---> forms \n"
   ]
  },
  {
   "cell_type": "code",
   "execution_count": null,
   "metadata": {},
   "outputs": [],
   "source": [
    "data scientist \n",
    "python \n",
    "database \n",
    "front end \n",
    "back end \n",
    "machine "
   ]
  },
  {
   "cell_type": "code",
   "execution_count": null,
   "metadata": {},
   "outputs": [],
   "source": [
    "len()  # "
   ]
  },
  {
   "cell_type": "code",
   "execution_count": 57,
   "metadata": {},
   "outputs": [],
   "source": [
    "a = \"uplfairs\"\n",
    "b = [250,10,20,20,30,50,2]\n",
    "c = (41,52,63,96,85,7)"
   ]
  },
  {
   "cell_type": "code",
   "execution_count": 60,
   "metadata": {},
   "outputs": [
    {
     "data": {
      "text/plain": [
       "6"
      ]
     },
     "execution_count": 60,
     "metadata": {},
     "output_type": "execute_result"
    }
   ],
   "source": [
    "len(c)"
   ]
  },
  {
   "cell_type": "code",
   "execution_count": null,
   "metadata": {},
   "outputs": [],
   "source": [
    "# email sender program \n",
    "smartengineer0786@gmail.com \n",
    "\n",
    "name:\n",
    "college:\n",
    "branch:\n"
   ]
  },
  {
   "cell_type": "code",
   "execution_count": null,
   "metadata": {},
   "outputs": [],
   "source": [
    "done text file "
   ]
  }
 ],
 "metadata": {
  "kernelspec": {
   "display_name": "Python 3",
   "language": "python",
   "name": "python3"
  },
  "language_info": {
   "codemirror_mode": {
    "name": "ipython",
    "version": 3
   },
   "file_extension": ".py",
   "mimetype": "text/x-python",
   "name": "python",
   "nbconvert_exporter": "python",
   "pygments_lexer": "ipython3",
   "version": "3.11.5"
  }
 },
 "nbformat": 4,
 "nbformat_minor": 2
}
