{
 "cells": [
  {
   "cell_type": "code",
   "execution_count": 1,
   "id": "afd08cbe-d8b6-4e79-b1c2-d50e3de6cd54",
   "metadata": {},
   "outputs": [],
   "source": [
    "import numpy as np "
   ]
  },
  {
   "cell_type": "code",
   "execution_count": 3,
   "id": "0e996608-3cc1-4806-b688-c5c17fd22fff",
   "metadata": {},
   "outputs": [
    {
     "data": {
      "text/plain": [
       "array([ 7, 27, 29,  8, 46, 40, 16, 30, 29, 13, 41, 33, 38, 48, 41, 16, 26,\n",
       "       32, 19, 34, 19, 29, 12, 20, 25, 18, 48,  9, 20,  8, 33, 28, 18, 33,\n",
       "       40, 44, 46,  8, 48, 16, 31, 16, 42,  6, 46, 43, 17, 28, 47, 30, 39,\n",
       "       24, 30, 41, 44, 46, 21, 42, 19,  8, 14, 49, 37,  7, 35, 35, 25, 13,\n",
       "       46, 19,  7, 16, 20, 27, 43, 15, 21, 23, 10,  5,  7, 31, 37, 16, 20,\n",
       "       17, 23, 31, 24, 33, 29, 20, 33, 40, 28, 17, 49, 25, 13,  6])"
      ]
     },
     "execution_count": 3,
     "metadata": {},
     "output_type": "execute_result"
    }
   ],
   "source": [
    "arr = np.random.randint(5,50,100)\n",
    "arr "
   ]
  },
  {
   "cell_type": "code",
   "execution_count": 7,
   "id": "48926c73-edf5-4fc6-9da5-fb24ee616249",
   "metadata": {},
   "outputs": [
    {
     "data": {
      "text/plain": [
       "26.81"
      ]
     },
     "execution_count": 7,
     "metadata": {},
     "output_type": "execute_result"
    }
   ],
   "source": [
    "arr.mean()  # , max() , min() , sum()  , mean()==average()"
   ]
  },
  {
   "cell_type": "code",
   "execution_count": 8,
   "id": "c3913236-51d4-4b4d-92c2-00e3bb59a57b",
   "metadata": {},
   "outputs": [
    {
     "data": {
      "text/plain": [
       "array([[23, 37,  7],\n",
       "       [10, 27, 24],\n",
       "       [12,  9, 15],\n",
       "       [19, 46, 13]])"
      ]
     },
     "execution_count": 8,
     "metadata": {},
     "output_type": "execute_result"
    }
   ],
   "source": [
    "arr = np.random.randint(5,50,(4,3))\n",
    "arr"
   ]
  },
  {
   "cell_type": "code",
   "execution_count": 10,
   "id": "fa576038-3676-4536-b95b-0a94fc7402e8",
   "metadata": {},
   "outputs": [
    {
     "data": {
      "text/plain": [
       "(4, 3)"
      ]
     },
     "execution_count": 10,
     "metadata": {},
     "output_type": "execute_result"
    }
   ],
   "source": [
    "arr.shape  "
   ]
  },
  {
   "cell_type": "code",
   "execution_count": 12,
   "id": "90fdf1c2-8aa4-4a8e-92c0-804e72bffd26",
   "metadata": {},
   "outputs": [
    {
     "data": {
      "text/plain": [
       "(3, 4)"
      ]
     },
     "execution_count": 12,
     "metadata": {},
     "output_type": "execute_result"
    }
   ],
   "source": [
    "np.transpose(arr).shape"
   ]
  },
  {
   "cell_type": "code",
   "execution_count": 13,
   "id": "747ae039-e893-445f-9b9d-b33b426265ca",
   "metadata": {},
   "outputs": [
    {
     "data": {
      "text/plain": [
       "array([[23, 10, 12, 19],\n",
       "       [37, 27,  9, 46],\n",
       "       [ 7, 24, 15, 13]])"
      ]
     },
     "execution_count": 13,
     "metadata": {},
     "output_type": "execute_result"
    }
   ],
   "source": [
    "arr.T"
   ]
  },
  {
   "cell_type": "code",
   "execution_count": 15,
   "id": "675af587-f33f-4ddd-9f10-5366e36b53ac",
   "metadata": {},
   "outputs": [
    {
     "data": {
      "text/plain": [
       "array([[ 8,  8,  9, 11,  5],\n",
       "       [ 7,  9,  6,  2,  8],\n",
       "       [ 8, 11,  4,  5,  7],\n",
       "       [ 3,  9,  9,  7,  2],\n",
       "       [10,  6,  6, 10,  2],\n",
       "       [ 6,  5,  4,  4,  9],\n",
       "       [ 8,  8,  5,  7, 11],\n",
       "       [ 3,  3,  2,  4,  8],\n",
       "       [ 7,  2, 11,  6, 10],\n",
       "       [11,  2,  7,  5,  7]])"
      ]
     },
     "execution_count": 15,
     "metadata": {},
     "output_type": "execute_result"
    }
   ],
   "source": [
    "arr = np.random.randint(2,12,(10,5))\n",
    "arr "
   ]
  },
  {
   "cell_type": "code",
   "execution_count": 18,
   "id": "e422ba95-6e66-4f20-95e4-55ffe2482cea",
   "metadata": {},
   "outputs": [
    {
     "data": {
      "text/plain": [
       "array([ 8,  8,  9, 11,  5,  7,  9,  6,  2,  8,  8, 11,  4,  5,  7,  3,  9,\n",
       "        9,  7,  2, 10,  6,  6, 10,  2,  6,  5,  4,  4,  9,  8,  8,  5,  7,\n",
       "       11,  3,  3,  2,  4,  8,  7,  2, 11,  6, 10, 11,  2,  7,  5,  7])"
      ]
     },
     "execution_count": 18,
     "metadata": {},
     "output_type": "execute_result"
    }
   ],
   "source": [
    "arr.reshape(50,)"
   ]
  },
  {
   "cell_type": "code",
   "execution_count": 19,
   "id": "bd8b640e-1bdb-411e-8b19-bee86569c426",
   "metadata": {},
   "outputs": [
    {
     "data": {
      "text/plain": [
       "array([[ 8,  8,  9, 11,  5],\n",
       "       [ 7,  9,  6,  2,  8],\n",
       "       [ 8, 11,  4,  5,  7],\n",
       "       [ 3,  9,  9,  7,  2],\n",
       "       [10,  6,  6, 10,  2],\n",
       "       [ 6,  5,  4,  4,  9],\n",
       "       [ 8,  8,  5,  7, 11],\n",
       "       [ 3,  3,  2,  4,  8],\n",
       "       [ 7,  2, 11,  6, 10],\n",
       "       [11,  2,  7,  5,  7]])"
      ]
     },
     "execution_count": 19,
     "metadata": {},
     "output_type": "execute_result"
    }
   ],
   "source": [
    "arr"
   ]
  },
  {
   "cell_type": "code",
   "execution_count": 25,
   "id": "37ee843d-eb79-4cdb-9f9a-139494140970",
   "metadata": {},
   "outputs": [
    {
     "data": {
      "text/plain": [
       "array([[ 8,  8],\n",
       "       [ 7,  9],\n",
       "       [ 8, 11],\n",
       "       [ 3,  9],\n",
       "       [10,  6],\n",
       "       [ 6,  5],\n",
       "       [ 8,  8],\n",
       "       [ 3,  3],\n",
       "       [ 7,  2],\n",
       "       [11,  2]])"
      ]
     },
     "execution_count": 25,
     "metadata": {},
     "output_type": "execute_result"
    }
   ],
   "source": [
    "arr[-10:,-5:-3]"
   ]
  },
  {
   "cell_type": "code",
   "execution_count": 34,
   "id": "1508b73a-8f5c-44e3-abe8-191b8b4aec78",
   "metadata": {},
   "outputs": [
    {
     "data": {
      "text/plain": [
       "array([[[46, 22, 25, 14, 32],\n",
       "        [26, 12, 32, 34, 19],\n",
       "        [12, 43, 16,  4, 43],\n",
       "        [46, 15, 41, 42, 20],\n",
       "        [13, 21, 29, 20, 26],\n",
       "        [19, 19, 22, 44, 34],\n",
       "        [46, 21,  5, 21, 42],\n",
       "        [46, 13, 22, 11, 33],\n",
       "        [29, 28, 22, 11, 18],\n",
       "        [21, 37, 31, 10, 18]],\n",
       "\n",
       "       [[33, 32, 26, 10, 37],\n",
       "        [33, 43, 10,  2, 26],\n",
       "        [26, 14,  7,  3,  7],\n",
       "        [13, 38, 46, 13, 10],\n",
       "        [37, 46, 12, 47, 38],\n",
       "        [35, 48, 28, 17, 25],\n",
       "        [49, 49, 19, 12, 39],\n",
       "        [46, 46, 43, 43,  3],\n",
       "        [37, 27,  9, 17, 30],\n",
       "        [16, 30, 25,  6, 42]],\n",
       "\n",
       "       [[48,  9, 32, 21,  5],\n",
       "        [27, 47, 46, 16, 30],\n",
       "        [32, 34, 30, 11, 45],\n",
       "        [41, 23,  5, 19, 25],\n",
       "        [24, 20, 40, 40,  2],\n",
       "        [25, 47, 33, 49, 44],\n",
       "        [45, 37, 19, 31,  2],\n",
       "        [38,  3, 20, 31, 10],\n",
       "        [ 3,  3, 13, 41, 40],\n",
       "        [17, 24, 26, 43,  3]],\n",
       "\n",
       "       [[31, 44, 34,  2, 23],\n",
       "        [11, 26, 38, 11, 16],\n",
       "        [37,  9, 35, 22, 15],\n",
       "        [ 5, 17, 46, 14, 44],\n",
       "        [41,  6, 11, 28, 48],\n",
       "        [10, 27, 10,  8, 12],\n",
       "        [12, 39,  2,  3, 16],\n",
       "        [10, 19, 32, 21, 20],\n",
       "        [38, 21, 19,  6,  3],\n",
       "        [30, 16, 29, 40, 28]],\n",
       "\n",
       "       [[22, 41, 15, 24,  4],\n",
       "        [35, 11,  7, 27, 25],\n",
       "        [23, 24, 39, 45, 37],\n",
       "        [25,  9, 47, 23, 16],\n",
       "        [48, 24, 44, 42, 15],\n",
       "        [36, 16, 45, 20, 47],\n",
       "        [23, 40, 42, 38, 25],\n",
       "        [32, 40, 23,  3,  6],\n",
       "        [32,  7, 24, 28, 11],\n",
       "        [ 4, 26, 30, 10,  5]]])"
      ]
     },
     "execution_count": 34,
     "metadata": {},
     "output_type": "execute_result"
    }
   ],
   "source": [
    "arr = np.random.randint(2,50,(5,10,5))\n",
    "arr"
   ]
  },
  {
   "cell_type": "code",
   "execution_count": 28,
   "id": "0352a57c-e86f-4100-9356-ac145960576f",
   "metadata": {},
   "outputs": [
    {
     "data": {
      "text/plain": [
       "(5, 10, 5)"
      ]
     },
     "execution_count": 28,
     "metadata": {},
     "output_type": "execute_result"
    }
   ],
   "source": [
    "arr.shape \n",
    "#T , R , C "
   ]
  },
  {
   "cell_type": "code",
   "execution_count": 29,
   "id": "22b081d0-79f9-45fa-933a-3076b671988d",
   "metadata": {},
   "outputs": [
    {
     "data": {
      "text/plain": [
       "3"
      ]
     },
     "execution_count": 29,
     "metadata": {},
     "output_type": "execute_result"
    }
   ],
   "source": [
    "arr.ndim"
   ]
  },
  {
   "cell_type": "code",
   "execution_count": 35,
   "id": "a0a0b866-dfe0-4d57-8743-008a6be3c0c7",
   "metadata": {},
   "outputs": [
    {
     "data": {
      "text/plain": [
       "array([[46, 22, 25, 14, 32],\n",
       "       [26, 12, 32, 34, 19],\n",
       "       [12, 43, 16,  4, 43],\n",
       "       [46, 15, 41, 42, 20],\n",
       "       [13, 21, 29, 20, 26],\n",
       "       [19, 19, 22, 44, 34],\n",
       "       [46, 21,  5, 21, 42],\n",
       "       [46, 13, 22, 11, 33],\n",
       "       [29, 28, 22, 11, 18],\n",
       "       [21, 37, 31, 10, 18]])"
      ]
     },
     "execution_count": 35,
     "metadata": {},
     "output_type": "execute_result"
    }
   ],
   "source": [
    "arr[0]   # you will get a table "
   ]
  },
  {
   "cell_type": "code",
   "execution_count": 36,
   "id": "bf674432-af98-4aca-aa42-eb6b0ec577e3",
   "metadata": {},
   "outputs": [
    {
     "name": "stdout",
     "output_type": "stream",
     "text": [
      "[[[21 37 31 10 18]]\n",
      "\n",
      " [[16 30 25  6 42]]\n",
      "\n",
      " [[17 24 26 43  3]]\n",
      "\n",
      " [[30 16 29 40 28]]\n",
      "\n",
      " [[ 4 26 30 10  5]]]\n"
     ]
    }
   ],
   "source": [
    "print(arr[:,9:,:])"
   ]
  },
  {
   "cell_type": "code",
   "execution_count": 50,
   "id": "48429f19-8046-4adc-939d-4f5eb5faa0ff",
   "metadata": {},
   "outputs": [
    {
     "data": {
      "text/plain": [
       "array([7, 5, 9])"
      ]
     },
     "execution_count": 50,
     "metadata": {},
     "output_type": "execute_result"
    }
   ],
   "source": [
    "arr = np.array([7,5,9])\n",
    "arr "
   ]
  },
  {
   "cell_type": "code",
   "execution_count": 38,
   "id": "0bd7f342-6d17-4bca-b046-e1ca7dbee84b",
   "metadata": {},
   "outputs": [
    {
     "data": {
      "text/plain": [
       "9"
      ]
     },
     "execution_count": 38,
     "metadata": {},
     "output_type": "execute_result"
    }
   ],
   "source": [
    "arr.max()"
   ]
  },
  {
   "cell_type": "code",
   "execution_count": 40,
   "id": "d96bcb5e-2de0-4210-b5d6-3d4ede75b575",
   "metadata": {},
   "outputs": [
    {
     "data": {
      "text/plain": [
       "1"
      ]
     },
     "execution_count": 40,
     "metadata": {},
     "output_type": "execute_result"
    }
   ],
   "source": [
    "arr.argmin()  # argmax()"
   ]
  },
  {
   "cell_type": "code",
   "execution_count": 45,
   "id": "684765ac-9daf-45f3-a79f-a71927da6572",
   "metadata": {},
   "outputs": [],
   "source": [
    "arr.sort()   # "
   ]
  },
  {
   "cell_type": "code",
   "execution_count": 52,
   "id": "520491c2-4549-4d58-8e7f-3cc3cf4e8e95",
   "metadata": {},
   "outputs": [
    {
     "data": {
      "text/plain": [
       "array([1, 0, 2], dtype=int64)"
      ]
     },
     "execution_count": 52,
     "metadata": {},
     "output_type": "execute_result"
    }
   ],
   "source": [
    "arr.argsort()   #  5   7   9  "
   ]
  },
  {
   "cell_type": "code",
   "execution_count": 53,
   "id": "968c23d5-99ff-4456-a872-a6024099f643",
   "metadata": {},
   "outputs": [
    {
     "data": {
      "text/plain": [
       "array([7, 5, 9])"
      ]
     },
     "execution_count": 53,
     "metadata": {},
     "output_type": "execute_result"
    }
   ],
   "source": [
    "arr "
   ]
  },
  {
   "cell_type": "code",
   "execution_count": 54,
   "id": "2e254ce7-40c8-4b2f-a66d-3a7e97264e16",
   "metadata": {},
   "outputs": [
    {
     "data": {
      "text/plain": [
       "array([[ 6,  6,  3,  5,  4],\n",
       "       [ 3,  6,  7, 10, 10],\n",
       "       [ 2, 10,  8, 11,  2],\n",
       "       [ 3,  8,  4,  3,  5],\n",
       "       [10,  6, 10,  5,  5],\n",
       "       [ 3,  3,  8, 10,  6],\n",
       "       [ 8,  2,  9,  9,  6],\n",
       "       [ 6,  3,  5, 10,  4],\n",
       "       [ 8,  5,  4,  4, 10],\n",
       "       [ 7,  9,  8,  2,  8]])"
      ]
     },
     "execution_count": 54,
     "metadata": {},
     "output_type": "execute_result"
    }
   ],
   "source": [
    "arr = np.random.randint(2,12,(10,5))\n",
    "arr "
   ]
  },
  {
   "cell_type": "code",
   "execution_count": 55,
   "id": "590a7575-4af6-41e9-a052-9e8ee34f5132",
   "metadata": {},
   "outputs": [
    {
     "data": {
      "text/plain": [
       "array([ 2,  3,  4,  5,  6,  7,  8,  9, 10, 11])"
      ]
     },
     "execution_count": 55,
     "metadata": {},
     "output_type": "execute_result"
    }
   ],
   "source": [
    "np.unique(arr)  # "
   ]
  },
  {
   "cell_type": "code",
   "execution_count": 59,
   "id": "d341cb9d-ed13-4736-92bd-dd87e221a23b",
   "metadata": {},
   "outputs": [
    {
     "data": {
      "text/plain": [
       "array([186, 248,  87, 115,  20,  20, 236, 227, 179, 105, 249, 127,  19,\n",
       "        19, 115,  68,  74,  74, 206, 177,  31, 225,  91, 149, 200,   5,\n",
       "        89,  14,  53,  62,  47,  10, 127, 197, 129, 144,  52, 120, 237,\n",
       "       185, 221,  34, 185, 160,  20, 228, 158, 131, 217,  59, 205,  57,\n",
       "       184,  91, 173, 171, 165, 142,  92,  45, 237,  81, 203, 195,  69,\n",
       "        79,  86,  19,  70, 158, 222, 162, 161, 111,   6,  94, 175, 100,\n",
       "       109, 235, 187,  55, 162, 160, 242, 132,  91,  21, 136, 125,  15,\n",
       "       170,  25,  69,  45,  13,  62, 163, 101, 109,  75, 195, 249, 185,\n",
       "       220,  57, 117, 134, 158, 193, 111,  85,  79,   7, 226,  82,  10,\n",
       "       232,  46, 110, 117, 186,  84, 139, 237,  98,   9, 117, 152, 241,\n",
       "       178, 124,  59, 215, 170, 239, 128, 163, 113, 109,  71,  22, 136,\n",
       "       245,  20, 155, 106, 120, 139,  37, 126, 187,  38,  55, 115,  50,\n",
       "       105, 248, 160, 217, 149, 183,  79, 138,  85,  71,  46,  16,  16,\n",
       "        41,  36,  54, 153, 206, 127, 153, 168,  86, 228,  25,  20,  37,\n",
       "       102, 228, 203,  29, 210, 189, 209, 218, 236, 181, 113, 212,  49,\n",
       "       105, 212, 216, 123,  30])"
      ]
     },
     "execution_count": 59,
     "metadata": {},
     "output_type": "execute_result"
    }
   ],
   "source": [
    "arr = np.random.randint(2,250,200)\n",
    "arr "
   ]
  },
  {
   "cell_type": "code",
   "execution_count": 63,
   "id": "15b0d4d7-0210-4127-9d17-d569ebc872ad",
   "metadata": {},
   "outputs": [
    {
     "data": {
      "text/plain": [
       "121.5"
      ]
     },
     "execution_count": 63,
     "metadata": {},
     "output_type": "execute_result"
    }
   ],
   "source": [
    "np.median(arr)   # mean() "
   ]
  },
  {
   "cell_type": "code",
   "execution_count": 64,
   "id": "d992b828-3881-4cf9-ac17-39eed060eb3e",
   "metadata": {},
   "outputs": [
    {
     "data": {
      "text/plain": [
       "5009.2291"
      ]
     },
     "execution_count": 64,
     "metadata": {},
     "output_type": "execute_result"
    }
   ],
   "source": [
    "arr.var()"
   ]
  },
  {
   "cell_type": "code",
   "execution_count": 65,
   "id": "22fa9cf7-ad1c-4ab5-9c50-befb89e3bed4",
   "metadata": {},
   "outputs": [
    {
     "data": {
      "text/plain": [
       "70.77590762399306"
      ]
     },
     "execution_count": 65,
     "metadata": {},
     "output_type": "execute_result"
    }
   ],
   "source": [
    "arr.std()"
   ]
  },
  {
   "cell_type": "code",
   "execution_count": 66,
   "id": "78ad8600-9ae1-4d56-abe3-a2b41df56d14",
   "metadata": {},
   "outputs": [
    {
     "data": {
      "text/plain": [
       "5.0"
      ]
     },
     "execution_count": 66,
     "metadata": {},
     "output_type": "execute_result"
    }
   ],
   "source": [
    "np.sqrt(25)   "
   ]
  },
  {
   "cell_type": "code",
   "execution_count": 68,
   "id": "76a99157-7c90-4903-a18e-ff13fcd3c676",
   "metadata": {},
   "outputs": [],
   "source": [
    "# numpy   "
   ]
  },
  {
   "cell_type": "code",
   "execution_count": 70,
   "id": "b02afb6c-ac61-4f05-89b0-609fb60534eb",
   "metadata": {},
   "outputs": [],
   "source": [
    "# pandas \n",
    "# !pip install pandas  "
   ]
  },
  {
   "cell_type": "code",
   "execution_count": 72,
   "id": "a80a5096-3601-4125-95b6-5aff549bec01",
   "metadata": {},
   "outputs": [
    {
     "name": "stdout",
     "output_type": "stream",
     "text": [
      "imported\n"
     ]
    }
   ],
   "source": [
    "import pandas as pd \n",
    "print(\"imported\")"
   ]
  },
  {
   "cell_type": "code",
   "execution_count": null,
   "id": "bf1373bf-b741-415c-910f-d18293122fd1",
   "metadata": {},
   "outputs": [],
   "source": []
  }
 ],
 "metadata": {
  "kernelspec": {
   "display_name": "Python 3 (ipykernel)",
   "language": "python",
   "name": "python3"
  },
  "language_info": {
   "codemirror_mode": {
    "name": "ipython",
    "version": 3
   },
   "file_extension": ".py",
   "mimetype": "text/x-python",
   "name": "python",
   "nbconvert_exporter": "python",
   "pygments_lexer": "ipython3",
   "version": "3.11.5"
  }
 },
 "nbformat": 4,
 "nbformat_minor": 5
}
