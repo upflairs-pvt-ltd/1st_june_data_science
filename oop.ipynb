{
 "cells": [
  {
   "cell_type": "code",
   "execution_count": 9,
   "id": "3f6efad7-d861-4dfd-892c-8f53153cfd95",
   "metadata": {},
   "outputs": [],
   "source": [
    "class Student: \n",
    "    #class properties \n",
    "    name = ['Rahul kumar','Dhakad','nitin']\n",
    "    branch = 'computer science engineeer'\n",
    "    college = \"IET Lucknow\"\n"
   ]
  },
  {
   "cell_type": "code",
   "execution_count": 10,
   "id": "f942d65d-2513-4ab4-b2c6-af9cf2a21a08",
   "metadata": {},
   "outputs": [],
   "source": [
    "stu_obj = Student()     # object creation or instance "
   ]
  },
  {
   "cell_type": "code",
   "execution_count": 14,
   "id": "9956bf49-3847-4351-bf42-a64071d3fabf",
   "metadata": {},
   "outputs": [
    {
     "name": "stdout",
     "output_type": "stream",
     "text": [
      "['Rahul kumar', 'Dhakad', 'nitin']\n"
     ]
    }
   ],
   "source": [
    "print(stu_obj.name)"
   ]
  },
  {
   "cell_type": "code",
   "execution_count": 16,
   "id": "abfe2d68-fa2c-415c-8e6d-fef3c084583e",
   "metadata": {},
   "outputs": [],
   "source": [
    "stu_obj.branch = \"information technology\""
   ]
  },
  {
   "cell_type": "code",
   "execution_count": 17,
   "id": "cf8fdd21-21b4-4949-b846-2076a59b87f1",
   "metadata": {},
   "outputs": [],
   "source": [
    "stu_obj.college = \"nalanda university\""
   ]
  },
  {
   "cell_type": "code",
   "execution_count": 18,
   "id": "b96afb07-5b11-4a1d-97e1-ca265a82c1cb",
   "metadata": {},
   "outputs": [
    {
     "name": "stdout",
     "output_type": "stream",
     "text": [
      "nalanda university\n"
     ]
    }
   ],
   "source": [
    "print(stu_obj.college)"
   ]
  },
  {
   "cell_type": "code",
   "execution_count": 19,
   "id": "41ae4b7a-d042-48f8-8b92-82cd9ab99d64",
   "metadata": {},
   "outputs": [
    {
     "name": "stdout",
     "output_type": "stream",
     "text": [
      "information technology\n"
     ]
    }
   ],
   "source": [
    "print(stu_obj.branch)\n"
   ]
  },
  {
   "cell_type": "code",
   "execution_count": 57,
   "id": "f5e24e0f-430b-4fa1-90ac-296c9085bb6d",
   "metadata": {
    "scrolled": true
   },
   "outputs": [],
   "source": [
    "class ListFunction: \n",
    "    ls = [25,41,63,85,74,96,112,113,117,75,963,42,14,52,77,88,55,66,33,22,11,44,55,88,99,66,74,52,1]   # without using len \n",
    "\n",
    "    # Method \n",
    "    def len_finder(self):\n",
    "        count = 0 \n",
    "        for item in self.ls:\n",
    "            count +=1\n",
    "        print(count)\n",
    "\n",
    "    #method \n",
    "    def average_finder(self):    # len , sum \n",
    "        total_sum = 0 \n",
    "        count = 0\n",
    "        for item in self.ls: \n",
    "            if item %2 ==0:\n",
    "                total_sum += item \n",
    "                count += 1 \n",
    "    \n",
    "        print(\"Your average is : \",total_sum/count)\n",
    "\n",
    "    \n",
    "\n",
    "    def average_finder_even(self):\n",
    "        total_sum = 0 \n",
    "        count = 0 \n",
    "        for item in self.ls: \n",
    "            if item >=50 and item <=100 and item % 2 ==0: \n",
    "                total_sum += item \n",
    "                count +=1 \n",
    "        average = total_sum/count\n",
    "        print(\"Your average is : \",round(average,2))\n",
    "    \n",
    "    "
   ]
  },
  {
   "cell_type": "code",
   "execution_count": 58,
   "id": "ac35d70d-e7f2-407c-a4bc-84706f36031e",
   "metadata": {},
   "outputs": [],
   "source": [
    "obj =  ListFunction()"
   ]
  },
  {
   "cell_type": "code",
   "execution_count": 59,
   "id": "fbeccec0-c168-4a42-adb2-47db85c335e7",
   "metadata": {},
   "outputs": [
    {
     "name": "stdout",
     "output_type": "stream",
     "text": [
      "Your average is :  72.89\n"
     ]
    }
   ],
   "source": [
    "obj.average_finder_even()"
   ]
  },
  {
   "cell_type": "code",
   "execution_count": 44,
   "id": "46329898-2ed0-4004-99e3-e897c3cd8adf",
   "metadata": {},
   "outputs": [
    {
     "name": "stdout",
     "output_type": "stream",
     "text": [
      "Your average is :  133.71428571428572\n"
     ]
    }
   ],
   "source": [
    "obj.average_finder()"
   ]
  },
  {
   "cell_type": "code",
   "execution_count": 40,
   "id": "a96e7418-5a7b-416f-aef2-447dd5472de6",
   "metadata": {},
   "outputs": [],
   "source": [
    "ls = [25,41,63,85,74,96,112,113,117,75,963,42,14,52] \n",
    "\n",
    "def average_finder(ls):    # len , sum \n",
    "    total_sum = 0 \n",
    "    count = 0\n",
    "    for item in ls: \n",
    "        total_sum += item \n",
    "        count += 1 \n",
    "\n",
    "    print(\"Your average is : \",total_sum/count)"
   ]
  },
  {
   "cell_type": "code",
   "execution_count": 41,
   "id": "aecc1d46-4560-43b6-97cf-33139e81924d",
   "metadata": {},
   "outputs": [
    {
     "name": "stdout",
     "output_type": "stream",
     "text": [
      "Your average is :  133.71428571428572\n"
     ]
    }
   ],
   "source": [
    "average_finder(ls)"
   ]
  },
  {
   "cell_type": "code",
   "execution_count": 87,
   "id": "cd28cd80-6322-440d-9801-b1e8fb7a9b45",
   "metadata": {},
   "outputs": [],
   "source": [
    "### constructor    \n",
    "class Student: \n",
    "    # class variable \n",
    "    name = \"Rahul kumar\"\n",
    "\n",
    "    # instance variable \n",
    "    def __init__(self): \n",
    "        self.student_name = \"Mohit kumar\"\n",
    "        self.branch = 'CSE'\n",
    "        self.college = \"IET lucknow\"\n",
    "    "
   ]
  },
  {
   "cell_type": "code",
   "execution_count": 88,
   "id": "c7596ab9-3feb-4bfb-8e1b-8efc54061d0d",
   "metadata": {},
   "outputs": [],
   "source": [
    "obj1 = Student()\n",
    "obj2 = Student()\n",
    "obj3 = Student()"
   ]
  },
  {
   "cell_type": "code",
   "execution_count": 90,
   "id": "0dc49121-1ee7-413c-a022-da3ac4a39f10",
   "metadata": {},
   "outputs": [],
   "source": [
    "Student.name  = \"Dharm pal\""
   ]
  },
  {
   "cell_type": "code",
   "execution_count": 91,
   "id": "20b2868b-51ed-4103-87db-74fc32238fa1",
   "metadata": {},
   "outputs": [
    {
     "data": {
      "text/plain": [
       "'Dharm pal'"
      ]
     },
     "execution_count": 91,
     "metadata": {},
     "output_type": "execute_result"
    }
   ],
   "source": [
    "Student.name"
   ]
  },
  {
   "cell_type": "code",
   "execution_count": 92,
   "id": "4b6c8778-6420-40e2-b2b3-782455e1fcca",
   "metadata": {},
   "outputs": [],
   "source": [
    "obj4 =  Student()"
   ]
  },
  {
   "cell_type": "code",
   "execution_count": 94,
   "id": "dc7b5d16-53ce-41ec-8bdb-c5d63051cb72",
   "metadata": {},
   "outputs": [
    {
     "data": {
      "text/plain": [
       "'Dharm pal'"
      ]
     },
     "execution_count": 94,
     "metadata": {},
     "output_type": "execute_result"
    }
   ],
   "source": [
    "obj4.name"
   ]
  },
  {
   "cell_type": "code",
   "execution_count": 83,
   "id": "dc5c65b7-bfec-4ab3-bedf-c1a00c3de866",
   "metadata": {},
   "outputs": [
    {
     "data": {
      "text/plain": [
       "'Rahul kumar'"
      ]
     },
     "execution_count": 83,
     "metadata": {},
     "output_type": "execute_result"
    }
   ],
   "source": [
    "obj3.name"
   ]
  },
  {
   "cell_type": "code",
   "execution_count": 81,
   "id": "87d745c9-d3f3-4298-884c-b522200156e8",
   "metadata": {},
   "outputs": [
    {
     "data": {
      "text/plain": [
       "'Rahul kumar'"
      ]
     },
     "execution_count": 81,
     "metadata": {},
     "output_type": "execute_result"
    }
   ],
   "source": [
    "Student.name "
   ]
  },
  {
   "cell_type": "code",
   "execution_count": 84,
   "id": "6f306129-f3a1-4bbb-b1df-06d3a80dcd19",
   "metadata": {},
   "outputs": [],
   "source": [
    "obj2.name = \"varshit\""
   ]
  },
  {
   "cell_type": "code",
   "execution_count": 78,
   "id": "e32aba7b-7931-46ee-beb4-04456bd510df",
   "metadata": {},
   "outputs": [],
   "source": [
    "obj1.name = \"varshit 2\""
   ]
  },
  {
   "cell_type": "code",
   "execution_count": 69,
   "id": "ad4a429f-e126-49f5-8430-4bd8cf584774",
   "metadata": {},
   "outputs": [
    {
     "data": {
      "text/plain": [
       "'Rahul kumar'"
      ]
     },
     "execution_count": 69,
     "metadata": {},
     "output_type": "execute_result"
    }
   ],
   "source": [
    "Student.name "
   ]
  },
  {
   "cell_type": "code",
   "execution_count": 85,
   "id": "6da1d73c-e5c0-4b1b-8c52-8e3601f9a0a0",
   "metadata": {},
   "outputs": [
    {
     "data": {
      "text/plain": [
       "'Rahul kumar'"
      ]
     },
     "execution_count": 85,
     "metadata": {},
     "output_type": "execute_result"
    }
   ],
   "source": [
    "obj1.name "
   ]
  },
  {
   "cell_type": "code",
   "execution_count": 105,
   "id": "5c8bba4f-2bab-49c8-8715-8c5e8608ae02",
   "metadata": {},
   "outputs": [],
   "source": [
    "### constructor    \n",
    "class Student: \n",
    "    # class variable \n",
    "    name = \"Rahul kumar\"\n",
    "\n",
    "    # instance variable \n",
    "    def __init__(self,name,student_branch,student_college): \n",
    "        self.student_name = name \n",
    "        self.branch = student_branch\n",
    "        self.college = student_college\n",
    "        print('I am executed !')\n"
   ]
  },
  {
   "cell_type": "code",
   "execution_count": 114,
   "id": "d3f9b27e-79f1-4719-8548-1d5b05a91b69",
   "metadata": {},
   "outputs": [
    {
     "name": "stdout",
     "output_type": "stream",
     "text": [
      "I am executed !\n",
      "I am executed !\n",
      "I am executed !\n"
     ]
    }
   ],
   "source": [
    "obj1 = Student(name='Rahul kumar',student_branch=\"cse\",student_college=\"iet lucknow\")\n",
    "obj2 = Student(name='rocky kumar',student_branch=\"machanical\",student_college=\"iet bhopal\")\n",
    "my_obj  = Student(name=\"Ranjit Singh\",student_branch=\"cse\",student_college=\"IET agra\")"
   ]
  },
  {
   "cell_type": "code",
   "execution_count": 115,
   "id": "39a236fb-24fd-4fe3-aaf1-79b61e2156e4",
   "metadata": {},
   "outputs": [
    {
     "data": {
      "text/plain": [
       "'Ranjit Singh'"
      ]
     },
     "execution_count": 115,
     "metadata": {},
     "output_type": "execute_result"
    }
   ],
   "source": [
    "my_obj.student_name"
   ]
  },
  {
   "cell_type": "code",
   "execution_count": 117,
   "id": "02948434-899c-496b-8192-c00484a9816f",
   "metadata": {},
   "outputs": [
    {
     "data": {
      "text/plain": [
       "'Ranjit Singh'"
      ]
     },
     "execution_count": 117,
     "metadata": {},
     "output_type": "execute_result"
    }
   ],
   "source": [
    "my_obj.student_name\n"
   ]
  },
  {
   "cell_type": "code",
   "execution_count": null,
   "id": "1be642be-ad02-465c-a76f-0c8778dc5e92",
   "metadata": {},
   "outputs": [],
   "source": []
  },
  {
   "cell_type": "code",
   "execution_count": null,
   "id": "e2bfeebc-2704-4474-9b6a-fcef4cf77ca8",
   "metadata": {},
   "outputs": [],
   "source": []
  },
  {
   "cell_type": "code",
   "execution_count": 101,
   "id": "e8963e22-4722-4b8e-83bc-404e1aa5ddd9",
   "metadata": {},
   "outputs": [
    {
     "name": "stdout",
     "output_type": "stream",
     "text": [
      "I am executed !\n",
      "I am executed !\n"
     ]
    }
   ],
   "source": [
    "obj1 = Student() \n",
    "obj2 = Student()\n",
    "obj3 = Student()"
   ]
  },
  {
   "cell_type": "code",
   "execution_count": 102,
   "id": "25d65b61-faa7-485d-9409-7b94d82aa996",
   "metadata": {},
   "outputs": [
    {
     "data": {
      "text/plain": [
       "'Mohit kumar'"
      ]
     },
     "execution_count": 102,
     "metadata": {},
     "output_type": "execute_result"
    }
   ],
   "source": [
    "obj1.student_name"
   ]
  },
  {
   "cell_type": "code",
   "execution_count": 103,
   "id": "ad8b48bd-c7a0-411e-a0c6-1540c1fb838e",
   "metadata": {},
   "outputs": [
    {
     "data": {
      "text/plain": [
       "'Mohit kumar'"
      ]
     },
     "execution_count": 103,
     "metadata": {},
     "output_type": "execute_result"
    }
   ],
   "source": [
    "obj2.student_name\n"
   ]
  },
  {
   "cell_type": "code",
   "execution_count": null,
   "id": "26ab7f1a-f0f5-4529-9a10-b8af8e03b6e1",
   "metadata": {},
   "outputs": [],
   "source": [
    "class Faculty: \n",
    "    # class variable \n",
    "\n",
    "    def __init__(self):\n",
    "\n",
    "\n",
    "    # all the instance variable \n",
    "    def show_info():\n",
    "        print(instance variables )\n",
    "    "
   ]
  },
  {
   "cell_type": "code",
   "execution_count": null,
   "id": "2ec45943-da4f-4866-8b52-921bb6511472",
   "metadata": {},
   "outputs": [],
   "source": [
    "# mutliple "
   ]
  },
  {
   "cell_type": "code",
   "execution_count": 27,
   "id": "16c62ee9-7e59-4b2c-82dd-60fc05324ec4",
   "metadata": {},
   "outputs": [],
   "source": [
    "class Student: \n",
    "    # class variable \n",
    "    collge_name = \"IET Lucknow\"\n",
    "\n",
    "    def __init__(self,name,branch,ls_of_subject):\n",
    "        # instance variable \n",
    "        self.student_name = name\n",
    "        self.branch = branch\n",
    "        self.subject = ls_of_subject \n",
    "\n",
    "    # intance method , class method , static method \n",
    "    def display(self): \n",
    "        print(\"My name is : \",self.student_name)\n",
    "        print(\"My branch is : \",self.branch)\n",
    "        print(\"My subjects : \",self.subject)\n",
    "        print(self.collge_name) \n",
    "\n",
    "    @classmethod   # decorator \n",
    "    def display2(cls):\n",
    "        print(\"my college name is : \",cls.collge_name) \n",
    "\n",
    "\n",
    "    #static  method \n",
    "\n",
    "    @staticmethod \n",
    "    def display2(): \n",
    "        pass \n",
    "        "
   ]
  },
  {
   "cell_type": "code",
   "execution_count": 37,
   "id": "439f7d4b-0606-4cef-aa3f-26cfaf52888a",
   "metadata": {},
   "outputs": [],
   "source": [
    "obj = Student(name=\"Radhey\",branch='cse',ls_of_subject=['physics','chemistry','Hindi'])"
   ]
  },
  {
   "cell_type": "code",
   "execution_count": 34,
   "id": "7015e46f-06bb-49a8-bbda-e0acf22305d1",
   "metadata": {
    "scrolled": true
   },
   "outputs": [
    {
     "name": "stdout",
     "output_type": "stream",
     "text": [
      "My name is :  Radhey\n",
      "My branch is :  cse\n",
      "My subjects :  ['physics', 'chemistry', 'Hindi']\n",
      "IET Lucknow\n"
     ]
    }
   ],
   "source": [
    "obj.display() \n",
    "# Student.display()   # "
   ]
  },
  {
   "cell_type": "code",
   "execution_count": 35,
   "id": "f83612ae-a561-440c-941f-9bc3e26bdec3",
   "metadata": {},
   "outputs": [
    {
     "name": "stdout",
     "output_type": "stream",
     "text": [
      "my college name is :  IET Lucknow\n"
     ]
    }
   ],
   "source": [
    "obj.display2()    # using instance "
   ]
  },
  {
   "cell_type": "code",
   "execution_count": 36,
   "id": "0f248229-cf5b-48b8-8dec-9cad9b5d10fb",
   "metadata": {},
   "outputs": [
    {
     "name": "stdout",
     "output_type": "stream",
     "text": [
      "my college name is :  IET Lucknow\n"
     ]
    }
   ],
   "source": [
    "Student.display2()   # using class name "
   ]
  },
  {
   "cell_type": "markdown",
   "id": "78ccc569-61f3-4cf4-a889-cb1c13398232",
   "metadata": {},
   "source": [
    "### Inheritence \n",
    "\n",
    "oops  <br>\n",
    "1. inheritance <br>\n",
    "2. Polymorphism <br>\n",
    "3. abstractin<br> \n",
    "4. encapsulation "
   ]
  },
  {
   "cell_type": "code",
   "execution_count": 53,
   "id": "9065fbb0-baca-411b-b450-e8a74ca4fb6d",
   "metadata": {},
   "outputs": [],
   "source": [
    "## SINGLE INHERITENCE without constructor \n",
    "class Faculty: \n",
    "    college_name = \"IET Lucknow\"  \n",
    "    total_staff = 200\n",
    "\n",
    "\n",
    "class Student(Faculty): \n",
    "    total_student = 5000 \n",
    "    branch = 'cse'"
   ]
  },
  {
   "cell_type": "code",
   "execution_count": 54,
   "id": "74399e2a-dd76-4dfc-b60f-55581d26e44f",
   "metadata": {},
   "outputs": [],
   "source": [
    "faculty_obj = Faculty()\n"
   ]
  },
  {
   "cell_type": "code",
   "execution_count": 55,
   "id": "284dd726-554b-4fc1-bdb8-0b987a32b77e",
   "metadata": {},
   "outputs": [
    {
     "data": {
      "text/plain": [
       "5000"
      ]
     },
     "execution_count": 55,
     "metadata": {},
     "output_type": "execute_result"
    }
   ],
   "source": [
    "student_obj = Student()\n",
    "student_obj.total_student"
   ]
  },
  {
   "cell_type": "code",
   "execution_count": 56,
   "id": "ae1f8d43-91b5-41e0-882f-f7b16213fe5d",
   "metadata": {},
   "outputs": [
    {
     "data": {
      "text/plain": [
       "'IET Lucknow'"
      ]
     },
     "execution_count": 56,
     "metadata": {},
     "output_type": "execute_result"
    }
   ],
   "source": [
    "student_obj.college_name"
   ]
  },
  {
   "cell_type": "code",
   "execution_count": 74,
   "id": "295ad0c3-460d-47b6-b43c-620b5eefb944",
   "metadata": {},
   "outputs": [],
   "source": [
    "class Father: \n",
    "    def __init__(self,father_name,father_age): \n",
    "        self.father_name = father_name\n",
    "        self.father_age = father_age\n",
    "        print('father constructor executed')\n",
    "\n",
    "    #instace method \n",
    "    def father_hii(self):\n",
    "        print(\"My father name is : \",self.father_name)\n",
    "        print(\"AGE is : \",self.father_age)\n",
    "\n",
    "\n",
    "class Son(Father): \n",
    "    def __init__(self,son_name,son_age,father_name,father_age):\n",
    "        self.son_name = son_name\n",
    "        self.son_age = son_age\n",
    "        super().__init__(father_name,father_age)   # super class constructor \n",
    "        print('son constructor executor')\n",
    "        \n",
    "    def son_hii(self):\n",
    "        print(\"Son name : \",self.son_name)\n",
    "        print(\"Son age : \"),self.son_age\n",
    "        "
   ]
  },
  {
   "cell_type": "code",
   "execution_count": 75,
   "id": "c5ec600c-4fb0-4a03-a44c-dd13396da12b",
   "metadata": {},
   "outputs": [
    {
     "name": "stdout",
     "output_type": "stream",
     "text": [
      "father constructor executed\n",
      "son constructor executor\n",
      "Son name :  Raju\n",
      "Son age : \n",
      "\n",
      "My father name is :  Dharmpal\n",
      "AGE is :  49\n"
     ]
    }
   ],
   "source": [
    "son_obj = Son(son_name='Raju',son_age=25,father_name=\"Dharmpal\",father_age=49)\n",
    "son_obj.son_hii()\n",
    "print()\n",
    "son_obj.father_hii()\n"
   ]
  },
  {
   "cell_type": "code",
   "execution_count": null,
   "id": "e31cc7cf-ea82-4cc1-82fb-7761eec2b8d8",
   "metadata": {},
   "outputs": [],
   "source": []
  },
  {
   "cell_type": "code",
   "execution_count": null,
   "id": "b59b2ea9-5233-46d1-9338-1e3926ff3597",
   "metadata": {},
   "outputs": [],
   "source": []
  },
  {
   "cell_type": "code",
   "execution_count": null,
   "id": "b8cf9b13-68b0-463b-8388-c267e1b82149",
   "metadata": {},
   "outputs": [],
   "source": []
  },
  {
   "cell_type": "code",
   "execution_count": null,
   "id": "c71f3856-5f8c-48fd-a916-aa06c8d6e83a",
   "metadata": {},
   "outputs": [],
   "source": []
  },
  {
   "cell_type": "code",
   "execution_count": null,
   "id": "74584685-9ee5-4027-951d-4ed7cc867e7d",
   "metadata": {},
   "outputs": [],
   "source": []
  },
  {
   "cell_type": "code",
   "execution_count": null,
   "id": "abf73d34-c43f-4029-8258-1317279c8298",
   "metadata": {},
   "outputs": [],
   "source": []
  },
  {
   "cell_type": "code",
   "execution_count": null,
   "id": "64311339-2a12-444a-8c72-5631d79bf81a",
   "metadata": {},
   "outputs": [],
   "source": []
  },
  {
   "cell_type": "code",
   "execution_count": 67,
   "id": "376f86a4-c7e9-4231-8b03-a7b8d8e3134b",
   "metadata": {},
   "outputs": [
    {
     "name": "stdout",
     "output_type": "stream",
     "text": [
      "My father name is :  Suresh chandra\n",
      "AGE is :  46\n"
     ]
    }
   ],
   "source": [
    "# father_obj = Father(father_name='Suresh chandra',father_age=46) \n",
    "father_obj2 = Father('Suresh chandra',46)\n",
    "father_obj.father_hii()"
   ]
  },
  {
   "cell_type": "code",
   "execution_count": 68,
   "id": "f43061c9-40d9-47f9-90c4-0f95ce908ea9",
   "metadata": {},
   "outputs": [
    {
     "name": "stdout",
     "output_type": "stream",
     "text": [
      "Son name :  Raju\n",
      "Son age : \n"
     ]
    }
   ],
   "source": [
    "son_obj = Son(son_name='Raju',son_age=25)\n",
    "son_obj.son_hii() "
   ]
  },
  {
   "cell_type": "code",
   "execution_count": 69,
   "id": "7191968b-2259-4230-a88c-4960cf313d5a",
   "metadata": {},
   "outputs": [
    {
     "ename": "AttributeError",
     "evalue": "'Son' object has no attribute 'father_name'",
     "output_type": "error",
     "traceback": [
      "\u001b[1;31m---------------------------------------------------------------------------\u001b[0m",
      "\u001b[1;31mAttributeError\u001b[0m                            Traceback (most recent call last)",
      "Cell \u001b[1;32mIn[69], line 1\u001b[0m\n\u001b[1;32m----> 1\u001b[0m \u001b[43mson_obj\u001b[49m\u001b[38;5;241;43m.\u001b[39;49m\u001b[43mfather_hii\u001b[49m\u001b[43m(\u001b[49m\u001b[43m)\u001b[49m\n",
      "Cell \u001b[1;32mIn[66], line 9\u001b[0m, in \u001b[0;36mFather.father_hii\u001b[1;34m(self)\u001b[0m\n\u001b[0;32m      8\u001b[0m \u001b[38;5;28;01mdef\u001b[39;00m \u001b[38;5;21mfather_hii\u001b[39m(\u001b[38;5;28mself\u001b[39m):\n\u001b[1;32m----> 9\u001b[0m     \u001b[38;5;28mprint\u001b[39m(\u001b[38;5;124m\"\u001b[39m\u001b[38;5;124mMy father name is : \u001b[39m\u001b[38;5;124m\"\u001b[39m,\u001b[38;5;28;43mself\u001b[39;49m\u001b[38;5;241;43m.\u001b[39;49m\u001b[43mfather_name\u001b[49m)\n\u001b[0;32m     10\u001b[0m     \u001b[38;5;28mprint\u001b[39m(\u001b[38;5;124m\"\u001b[39m\u001b[38;5;124mAGE is : \u001b[39m\u001b[38;5;124m\"\u001b[39m,\u001b[38;5;28mself\u001b[39m\u001b[38;5;241m.\u001b[39mfather_age)\n",
      "\u001b[1;31mAttributeError\u001b[0m: 'Son' object has no attribute 'father_name'"
     ]
    }
   ],
   "source": [
    "son_obj.father_hii()"
   ]
  },
  {
   "cell_type": "code",
   "execution_count": null,
   "id": "251ab5df-f97c-480a-af9a-d6490493e2a6",
   "metadata": {},
   "outputs": [],
   "source": [
    "'Son' object has no attribute 'father_hii'"
   ]
  },
  {
   "cell_type": "code",
   "execution_count": null,
   "id": "bb876394-f76a-4d3b-a969-a77638928b6c",
   "metadata": {},
   "outputs": [],
   "source": [
    "son_obj."
   ]
  },
  {
   "cell_type": "code",
   "execution_count": null,
   "id": "05a749fa-dc3a-4218-98e6-baab2c2420b2",
   "metadata": {},
   "outputs": [],
   "source": []
  },
  {
   "cell_type": "code",
   "execution_count": null,
   "id": "0a9730d9-b54d-4341-9034-50b483abc39e",
   "metadata": {},
   "outputs": [],
   "source": []
  },
  {
   "cell_type": "code",
   "execution_count": null,
   "id": "6e9cbf52-d779-4518-a894-0f6607565a63",
   "metadata": {},
   "outputs": [],
   "source": []
  },
  {
   "cell_type": "code",
   "execution_count": null,
   "id": "16b4ff6c-3bbd-4b9d-bf3a-6f2c72d6a51a",
   "metadata": {},
   "outputs": [],
   "source": []
  },
  {
   "cell_type": "code",
   "execution_count": null,
   "id": "1bbfffb4-f8f9-4f86-bdc1-6f0b192842e7",
   "metadata": {},
   "outputs": [],
   "source": []
  },
  {
   "cell_type": "code",
   "execution_count": null,
   "id": "7130dbfb-264d-4787-8037-0e51e4ccd3d9",
   "metadata": {},
   "outputs": [],
   "source": []
  },
  {
   "cell_type": "code",
   "execution_count": null,
   "id": "f9ab8921-511b-420e-84d3-670b5a9d6959",
   "metadata": {},
   "outputs": [],
   "source": []
  },
  {
   "cell_type": "code",
   "execution_count": null,
   "id": "44259b5f-0c14-4772-adb2-6b38eeea5fe0",
   "metadata": {},
   "outputs": [],
   "source": []
  },
  {
   "cell_type": "code",
   "execution_count": null,
   "id": "eab3f4a0-dad0-41f6-b149-e2d8a80129a1",
   "metadata": {},
   "outputs": [],
   "source": []
  },
  {
   "cell_type": "code",
   "execution_count": null,
   "id": "76a66974-29dd-46a4-8ff5-c66d766d4688",
   "metadata": {},
   "outputs": [],
   "source": []
  },
  {
   "cell_type": "code",
   "execution_count": null,
   "id": "d78a0f23-d7f2-44f4-9960-023d625c3705",
   "metadata": {},
   "outputs": [],
   "source": []
  },
  {
   "cell_type": "code",
   "execution_count": null,
   "id": "63157a41-0465-4aa3-8882-b2d42a3f2367",
   "metadata": {},
   "outputs": [],
   "source": []
  },
  {
   "cell_type": "code",
   "execution_count": null,
   "id": "bee558c9-cb5e-487f-b10b-6634bd48d5fc",
   "metadata": {},
   "outputs": [],
   "source": []
  },
  {
   "cell_type": "code",
   "execution_count": null,
   "id": "d9a044e2-af6c-42e6-b0c0-9af8b164ca9a",
   "metadata": {},
   "outputs": [],
   "source": []
  }
 ],
 "metadata": {
  "kernelspec": {
   "display_name": "Python 3 (ipykernel)",
   "language": "python",
   "name": "python3"
  },
  "language_info": {
   "codemirror_mode": {
    "name": "ipython",
    "version": 3
   },
   "file_extension": ".py",
   "mimetype": "text/x-python",
   "name": "python",
   "nbconvert_exporter": "python",
   "pygments_lexer": "ipython3",
   "version": "3.11.5"
  }
 },
 "nbformat": 4,
 "nbformat_minor": 5
}
